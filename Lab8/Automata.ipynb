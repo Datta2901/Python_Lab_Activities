{
 "cells": [
  {
   "source": [
    "1. Write a automata code for the Language that accepts all and only those strings that\n",
    "\n",
    "contain 001"
   ],
   "cell_type": "markdown",
   "metadata": {}
  },
  {
   "cell_type": "code",
   "execution_count": 1,
   "metadata": {},
   "outputs": [
    {
     "name": "stdout",
     "output_type": "stream",
     "text": [
      "Enter the string :021\n",
      "Rejected\n",
      "Enter the string :001\n",
      "Accepted\n",
      "Enter the string :010\n",
      "Rejected\n"
     ]
    }
   ],
   "source": [
    "from automata.fa.dfa import DFA\n",
    "dfa = DFA(\n",
    "    states={'q0', 'q1', 'q2', 'q3'},\n",
    "    input_symbols={'0', '1'},\n",
    "    transitions={\n",
    "        'q0': {'0': 'q1', '1': 'q0'},\n",
    "        'q1': {'0': 'q2', '1': 'q0'},\n",
    "        'q2': {'0': 'q2', '1': 'q3'},\n",
    "        'q3': {'0': 'q3', '1': 'q3'}\n",
    "    },\n",
    "    initial_state='q0',\n",
    "    final_states={'q3'}\n",
    ")\n",
    "for i in range(1,4):\n",
    "    num = input(\"Enter the string :\")\n",
    "    if(dfa.accepts_input(num)):\n",
    "        print(\"Accepted\")\n",
    "    else:\n",
    "        print(\"Rejected\")\n"
   ]
  },
  {
   "source": [
    "2. Write a automata code for L(M) ={ w | w has an even number of 1s}"
   ],
   "cell_type": "markdown",
   "metadata": {}
  },
  {
   "cell_type": "code",
   "execution_count": 3,
   "metadata": {},
   "outputs": [
    {
     "name": "stdout",
     "output_type": "stream",
     "text": [
      "Enter the string :111\n",
      "Rejected\n",
      "Enter the string :101\n",
      "Accepted\n",
      "Enter the string :100\n",
      "Rejected\n"
     ]
    }
   ],
   "source": [
    "from automata.fa.dfa import DFA\n",
    "dfa = DFA(\n",
    "    states={'q0', 'q1', 'q2'},\n",
    "    input_symbols={'0', '1'},\n",
    "    transitions={\n",
    "        'q0': {'0': 'q0', '1': 'q1'},\n",
    "        'q1': {'0': 'q1', '1': 'q2'},\n",
    "        'q2': {'0': 'q2', '1': 'q1'}\n",
    "    },\n",
    "    initial_state='q0',\n",
    "    final_states={'q2'}\n",
    ")\n",
    "for i in range(1,4):\n",
    "    num = input(\"Enter the string :\")\n",
    "    if(dfa.accepts_input(num)):\n",
    "        print(\"Accepted\")\n",
    "    else:\n",
    "        print(\"Rejected\")\n"
   ]
  },
  {
   "source": [
    "3. Write a automata code for L(M) ={0,1}*"
   ],
   "cell_type": "markdown",
   "metadata": {}
  },
  {
   "cell_type": "code",
   "execution_count": 7,
   "metadata": {},
   "outputs": [
    {
     "name": "stdout",
     "output_type": "stream",
     "text": [
      "Enter the string :111\n",
      "Accepted\n",
      "Enter the string :100\n",
      "Accepted\n",
      "Enter the string :000\n",
      "Accepted\n",
      "Enter the string :555\n",
      "Rejected\n",
      "Enter the string :545\n",
      "Rejected\n",
      "Enter the string :619\n",
      "Rejected\n",
      "Enter the string :690\n",
      "Rejected\n"
     ]
    }
   ],
   "source": [
    "from automata.fa.dfa import DFA\n",
    "dfa = DFA(\n",
    "    states={'q0', 'q1'},\n",
    "    input_symbols={'0', '1'},\n",
    "    transitions={\n",
    "        'q0': {'0': 'q1', '1': 'q1'},\n",
    "        'q1': {'0': 'q1', '1': 'q1'}\n",
    "    },\n",
    "    initial_state='q0',\n",
    "    final_states={'q1'}\n",
    ")\n",
    "for i in range(1,8):\n",
    "    num = input(\"Enter the string :\")\n",
    "    if(dfa.accepts_input(num)):\n",
    "        print(\"Accepted\")\n",
    "    else:\n",
    "        print(\"Rejected\")\n"
   ]
  },
  {
   "source": [
    "4. Write a automata code for L(M)=a + aa*b."
   ],
   "cell_type": "markdown",
   "metadata": {}
  },
  {
   "cell_type": "code",
   "execution_count": 8,
   "metadata": {},
   "outputs": [
    {
     "name": "stdout",
     "output_type": "stream",
     "text": [
      "Enter the string :a\n",
      "Accepted\n",
      "Enter the string :aa\n",
      "Rejected\n",
      "Enter the string :ab\n",
      "Rejected\n",
      "Enter the string :ba\n",
      "Rejected\n",
      "Enter the string :aab\n",
      "Accepted\n"
     ]
    }
   ],
   "source": [
    "from automata.fa.dfa import DFA\n",
    "dfa = DFA(\n",
    "    states={'q0', 'q1', 'q2', 'q3', 'q4', 'q5'},\n",
    "    input_symbols={'a', 'b'},\n",
    "    transitions={\n",
    "        'q0': {'a': 'q1', 'b': 'q5'},\n",
    "        'q1': {'a': 'q2', 'b': 'q5'},\n",
    "        'q2': {'a': 'q3', 'b': 'q4'},\n",
    "        'q3': {'a': 'q2', 'b': 'q5'},\n",
    "        'q4': {'a': 'q5', 'b': 'q5'},\n",
    "        'q5': {'a': 'q5', 'b': 'q5'}\n",
    "    },\n",
    "    initial_state='q0',\n",
    "    final_states={'q1', 'q4'}\n",
    ")\n",
    "for i in range(1,6):\n",
    "    num = input(\"Enter the string :\")\n",
    "    if(dfa.accepts_input(num)):\n",
    "        print(\"Accepted\")\n",
    "    else:\n",
    "        print(\"Rejected\")\n"
   ]
  },
  {
   "source": [
    "5. Write a automata code for L(M)={(ab) n | n  N}"
   ],
   "cell_type": "markdown",
   "metadata": {}
  },
  {
   "cell_type": "code",
   "execution_count": 9,
   "metadata": {},
   "outputs": [
    {
     "name": "stdout",
     "output_type": "stream",
     "text": [
      "Enter the string :aa\n",
      "Rejected\n",
      "Enter the string :abab\n",
      "Accepted\n",
      "Enter the string :abba\n",
      "Rejected\n",
      "Enter the string :abb\n",
      "Rejected\n",
      "Enter the string :abab\n",
      "Accepted\n"
     ]
    }
   ],
   "source": [
    "from automata.fa.dfa import DFA\n",
    "dfa = DFA(\n",
    "    states={'q0', 'q1', 'q2', 'q3'},\n",
    "    input_symbols={'a', 'b'},\n",
    "    transitions={\n",
    "        'q0': {'a': 'q1', 'b': 'q3'},\n",
    "        'q1': {'a': 'q3', 'b': 'q2'},\n",
    "        'q2': {'a': 'q1', 'b': 'q3'},\n",
    "        'q3': {'a': 'q3', 'b': 'q3'}\n",
    "    },\n",
    "    initial_state='q0',\n",
    "    final_states={'q2'}\n",
    ")\n",
    "for i in range(1,6):\n",
    "    num = input(\"Enter the string :\")\n",
    "    if(dfa.accepts_input(num)):\n",
    "        print(\"Accepted\")\n",
    "    else:\n",
    "        print(\"Rejected\")\n"
   ]
  },
  {
   "source": [
    "6. Write a automata code for Let Σ = {0, 1}.\n",
    "Given DFAs for {}, {ε}, Σ * , and Σ + ."
   ],
   "cell_type": "markdown",
   "metadata": {}
  },
  {
   "source": [
    "6.1. { }  --  ( null set ) :\n",
    "\n",
    " DFA which does not accept any input\n"
   ],
   "cell_type": "markdown",
   "metadata": {}
  },
  {
   "cell_type": "code",
   "execution_count": 17,
   "metadata": {},
   "outputs": [
    {
     "name": "stdout",
     "output_type": "stream",
     "text": [
      "Enter the string :{}\n",
      "Rejected\n",
      "Enter the string :{000}\n",
      "Rejected\n",
      "Enter the string :{120}\n",
      "Rejected\n",
      "Enter the string :{111}\n",
      "Rejected\n",
      "Enter the string :{010}\n",
      "Rejected\n",
      "Enter the string :{000}\n",
      "Rejected\n",
      "Enter the string :{-}\n",
      "Rejected\n"
     ]
    }
   ],
   "source": [
    "from automata.fa.dfa import DFA\n",
    "dfa = DFA(\n",
    "    states={'q0', 'q1'},\n",
    "    input_symbols={'0', '1'},\n",
    "    transitions={\n",
    "        'q0': {'0': 'q0', '1': 'q0'},\n",
    "        'q1': {'0': 'q1', '1': 'q1'}\n",
    "    },\n",
    "    initial_state='q0',\n",
    "    final_states={'q1'}\n",
    ")\n",
    "for i in range(1,8):\n",
    "    num = input(\"Enter the string :\")\n",
    "    if(dfa.accepts_input(num)):\n",
    "        print(\"Accepted\")\n",
    "    else:\n",
    "        print(\"Rejected\")\n"
   ]
  },
  {
   "source": [
    "6.2. { ε } -- Accepts only null character \n",
    "\n",
    "DFA which does not accept any input\n"
   ],
   "cell_type": "markdown",
   "metadata": {}
  },
  {
   "cell_type": "code",
   "execution_count": 18,
   "metadata": {},
   "outputs": [
    {
     "name": "stdout",
     "output_type": "stream",
     "text": [
      "Enter the string :00\n",
      "Rejected\n",
      "Enter the string :000\n",
      "Rejected\n",
      "Enter the string :{}\n",
      "Rejected\n",
      "Enter the string :{ε} \n",
      "Rejected\n",
      "Enter the string :{000}\n",
      "Rejected\n"
     ]
    }
   ],
   "source": [
    "from automata.fa.dfa import DFA\n",
    "dfa = DFA(\n",
    "    states={'q0', 'q1'},\n",
    "    input_symbols={'0', '1'},\n",
    "    transitions={\n",
    "        'q0': {'0': 'q1', '1': 'q1'},\n",
    "        'q1': {'0': 'q1', '1': 'q1'}\n",
    "    },\n",
    "    initial_state='q0',\n",
    "    final_states={'q0'}\n",
    ")\n",
    "for i in range(1,6):\n",
    "    num = input(\"Enter the string :\")\n",
    "    if(dfa.accepts_input(num)):\n",
    "        print(\"Accepted\")\n",
    "    else:\n",
    "        print(\"Rejected\")\n"
   ]
  },
  {
   "source": [
    "6.3. Σ * -- accepts all combinations of ‘1’ and ‘0’ including null string :"
   ],
   "cell_type": "markdown",
   "metadata": {}
  },
  {
   "cell_type": "code",
   "execution_count": 19,
   "metadata": {},
   "outputs": [
    {
     "name": "stdout",
     "output_type": "stream",
     "text": [
      "Enter the string :{000}\n",
      "Rejected\n",
      "Enter the string :{111}\n",
      "Rejected\n",
      "Enter the string :{064}\n",
      "Rejected\n",
      "Enter the string :{}\n",
      "Rejected\n",
      "Enter the string :{117}\n",
      "Rejected\n",
      "Enter the string :{-}\n",
      "Rejected\n",
      "Enter the string :000\n",
      "Accepted\n"
     ]
    }
   ],
   "source": [
    "from automata.fa.dfa import DFA\n",
    "# DFA which does not accept any input\n",
    "dfa = DFA(\n",
    "    states={'q0', 'q1'},\n",
    "    input_symbols={'0', '1'},\n",
    "    transitions={\n",
    "        'q0': {'0': 'q1', '1': 'q1'},\n",
    "        'q1': {'0': 'q1', '1': 'q1'}\n",
    "    },\n",
    "    initial_state='q0',\n",
    "    final_states={'q1'}\n",
    ")\n",
    "for i in range(1,8):\n",
    "    num = input(\"Enter the string :\")\n",
    "    if(dfa.accepts_input(num)):\n",
    "        print(\"Accepted\")\n",
    "    else:\n",
    "        print(\"Rejected\")\n"
   ]
  },
  {
   "source": [
    "\n",
    "6.4. Σ + -- accepts all combinations of ‘1’ and ‘0’ excluding null string :\n",
    "\n",
    "\n",
    " DFA which does not accept any input\n",
    "\n"
   ],
   "cell_type": "markdown",
   "metadata": {}
  },
  {
   "cell_type": "code",
   "execution_count": 1,
   "metadata": {},
   "outputs": [
    {
     "output_type": "stream",
     "name": "stdout",
     "text": [
      "Rejected\n",
      "Rejected\n",
      "Rejected\n",
      "Rejected\n",
      "Rejected\n",
      "Rejected\n",
      "Rejected\n"
     ]
    }
   ],
   "source": [
    "from automata.fa.dfa import DFA\n",
    "dfa = DFA(\n",
    "    states={'q0', 'q1'},\n",
    "    input_symbols={'0', '1'},\n",
    "    transitions={\n",
    "        'q0': {'0': 'q1', '1': 'q1'},\n",
    "        'q1': {'0': 'q1', '1': 'q1'}\n",
    "    },\n",
    "    initial_state='q0',\n",
    "    final_states={'q1'}\n",
    ")\n",
    "for i in range(1,8):\n",
    "    num = input(\"Enter the string :\")\n",
    "    if(dfa.accepts_input(num)):\n",
    "        print(\"Accepted\")\n",
    "    else:\n",
    "        print(\"Rejected\")\n"
   ]
  },
  {
   "source": [
    "NFA"
   ],
   "cell_type": "markdown",
   "metadata": {}
  },
  {
   "source": [
    "1. Write a automata code for the Language that accepts all end with 01"
   ],
   "cell_type": "markdown",
   "metadata": {}
  },
  {
   "cell_type": "code",
   "execution_count": 20,
   "metadata": {},
   "outputs": [
    {
     "name": "stdout",
     "output_type": "stream",
     "text": [
      "Enter the string :001\n",
      "Accepted\n",
      "Enter the string :010\n",
      "Rejected\n",
      "Enter the string :110\n",
      "Rejected\n"
     ]
    }
   ],
   "source": [
    "from automata.fa.nfa import NFA\n",
    "# NFA which accepts strings that ends with '01'\n",
    "nfa = NFA(\n",
    "    states={'q0', 'q1', 'q2'},\n",
    "    input_symbols={'0', '1'},\n",
    "    transitions={\n",
    "        'q0': {'0': {'q1','q0'}, '1': {'q0'}},\n",
    "        'q1': {'1': {'q2'}},\n",
    "        'q2': {}\n",
    "    },\n",
    "    initial_state='q0',\n",
    "    final_states={'q2'}\n",
    ")\n",
    "for i in range(1,4):\n",
    "    num = input(\"Enter the string :\")\n",
    "    if(nfa.accepts_input(num)):\n",
    "        print(\"Accepted\")\n",
    "    else:\n",
    "        print(\"Rejected\")\n"
   ]
  },
  {
   "cell_type": "code",
   "execution_count": 25,
   "metadata": {},
   "outputs": [
    {
     "name": "stdout",
     "output_type": "stream",
     "text": [
      "Enter the string :ab\n",
      "Accepted\n",
      "Enter the string :aab\n",
      "Accepted\n",
      "Enter the string :baba\n",
      "Rejected\n",
      "Enter the string :aaab\n",
      "Accepted\n",
      "Enter the string :aabb\n",
      "Rejected\n"
     ]
    }
   ],
   "source": [
    "\n",
    "from automata.fa.nfa import NFA\n",
    "# NFA which accepts strings that ends with 'ab'\n",
    "nfa = NFA(\n",
    "    states={'q0', 'q1', 'q2', 'q3', 'q4'},\n",
    "    input_symbols={'a', 'b'},\n",
    "    transitions={\n",
    "        'q0': {'a': {'q1','q2'}},\n",
    "        'q1': {'a': {'q2','q4'}, 'b': {'q4'}},\n",
    "        'q2': {'a': {'q2'}, 'b': {'q3'}},\n",
    "        'q3': {},\n",
    "        'q4': {}\n",
    "    },\n",
    "    initial_state='q0',\n",
    "    final_states={'q1','q3'}\n",
    ")\n",
    "for i in range(1,6):\n",
    "    num = input(\"Enter the string :\")\n",
    "    if(nfa.accepts_input(num)):\n",
    "        print(\"Accepted\")\n",
    "    else:\n",
    "        print(\"Rejected\")\n"
   ]
  },
  {
   "source": [
    "3. Write a automata code for Let Σ = {0, 1}.\n",
    "\n",
    "Given NFAs for {}, {ε}, {(ab) n | n  N}, which has regular expression (ab)*."
   ],
   "cell_type": "markdown",
   "metadata": {}
  },
  {
   "cell_type": "code",
   "execution_count": 23,
   "metadata": {},
   "outputs": [
    {
     "name": "stdout",
     "output_type": "stream",
     "text": [
      "Enter the string :abab\n",
      "Accepted\n",
      "Enter the string :baba\n",
      "Rejected\n",
      "Enter the string :abbab\n",
      "Rejected\n",
      "Enter the string :abbbba\n",
      "Rejected\n",
      "Enter the string :randomab\n",
      "Rejected\n",
      "Enter the string :aabb\n",
      "Rejected\n",
      "Enter the string :abab\n",
      "Accepted\n"
     ]
    }
   ],
   "source": [
    "from automata.fa.nfa import NFA\n",
    "# NFA which accepts strings that ends with 'ab'\n",
    "nfa = NFA(\n",
    "    states={'q0', 'q1', 'q2'},\n",
    "    input_symbols={'a', 'b'},\n",
    "    transitions={\n",
    "        'q0': {'a': {'q1'}},\n",
    "        'q1': {'b': {'q0', 'q2'}},\n",
    "        'q2': {}\n",
    "    },\n",
    "    initial_state='q0',\n",
    "    final_states={'q2'}\n",
    ")\n",
    "for i in range(1,8):\n",
    "    num = input(\"Enter the string :\")\n",
    "    if(nfa.accepts_input(num)):\n",
    "        print(\"Accepted\")\n",
    "    else:\n",
    "        print(\"Rejected\")\n"
   ]
  },
  {
   "cell_type": "code",
   "execution_count": null,
   "metadata": {},
   "outputs": [],
   "source": []
  }
 ],
 "metadata": {
  "kernelspec": {
   "name": "python385jvsc74a57bd0514c875f458a4eeecf57fff9a8f241a0d348fbc5534b67b68517d23698dc73f9",
   "display_name": "Python 3.8.5 64-bit (conda)"
  },
  "language_info": {
   "codemirror_mode": {
    "name": "ipython",
    "version": 3
   },
   "file_extension": ".py",
   "mimetype": "text/x-python",
   "name": "python",
   "nbconvert_exporter": "python",
   "pygments_lexer": "ipython3",
   "version": "3.8.5-final"
  }
 },
 "nbformat": 4,
 "nbformat_minor": 4
}