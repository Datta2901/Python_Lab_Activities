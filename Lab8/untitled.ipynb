{
 "metadata": {
  "language_info": {
   "codemirror_mode": {
    "name": "ipython",
    "version": 3
   },
   "file_extension": ".py",
   "mimetype": "text/x-python",
   "name": "python",
   "nbconvert_exporter": "python",
   "pygments_lexer": "ipython3",
   "version": "3.8.5-final"
  },
  "orig_nbformat": 2,
  "kernelspec": {
   "name": "python385jvsc74a57bd0514c875f458a4eeecf57fff9a8f241a0d348fbc5534b67b68517d23698dc73f9",
   "display_name": "Python 3.8.5 64-bit (conda)"
  }
 },
 "nbformat": 4,
 "nbformat_minor": 2,
 "cells": [
  {
   "cell_type": "code",
   "execution_count": 6,
   "metadata": {},
   "outputs": [
    {
     "output_type": "stream",
     "name": "stdout",
     "text": [
      "accepted\n"
     ]
    }
   ],
   "source": [
    "from automata.fa.dfa import DFA\n",
    "\n",
    "dfa = DFA(\n",
    "    states={'q0','q1','q2','q3','q4'},\n",
    "    input_symbols={'a', 'b'},\n",
    "    \n",
    "    transitions={\n",
    "        'q0': {'a': 'q1','b': 'q4'},\n",
    "        'q1': {'a': 'q2','b': 'q3'},\n",
    "        'q2': {'a': 'q2','b': 'q3'},\n",
    "        'q3': {'a': 'q4','b': 'q4'},\n",
    "        'q4': {'a': 'q4','b': 'q4'}\n",
    "        \n",
    "    },\n",
    "    \n",
    "    initial_state='q0',\n",
    "\n",
    "    final_states={'q1','q3'}\n",
    "\n",
    "\n",
    ")\n",
    "\n",
    "if dfa.accepts_input('aaaab'):\n",
    "\n",
    "    print('accepted')\n",
    "\n",
    "else:\n",
    "\n",
    "    print('rejected')"
   ]
  },
  {
   "cell_type": "code",
   "execution_count": null,
   "metadata": {},
   "outputs": [],
   "source": []
  }
 ]
}