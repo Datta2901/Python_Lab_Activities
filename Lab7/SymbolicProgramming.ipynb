{
 "metadata": {
  "language_info": {
   "codemirror_mode": {
    "name": "ipython",
    "version": 3
   },
   "file_extension": ".py",
   "mimetype": "text/x-python",
   "name": "python",
   "nbconvert_exporter": "python",
   "pygments_lexer": "ipython3",
   "version": "3.8.5-final"
  },
  "orig_nbformat": 2,
  "kernelspec": {
   "name": "python3",
   "display_name": "Python 3.8.5 64-bit (conda)",
   "metadata": {
    "interpreter": {
     "hash": "514c875f458a4eeecf57fff9a8f241a0d348fbc5534b67b68517d23698dc73f9"
    }
   }
  }
 },
 "nbformat": 4,
 "nbformat_minor": 2,
 "cells": [
  {
   "source": [
    "### Question 1\n",
    "\n",
    "i. Calculate sqrt (2) with 100 decimals"
   ],
   "cell_type": "markdown",
   "metadata": {}
  },
  {
   "cell_type": "code",
   "execution_count": 9,
   "metadata": {},
   "outputs": [],
   "source": [
    "import sympy\n",
    "from sympy import *\n"
   ]
  },
  {
   "cell_type": "code",
   "execution_count": 8,
   "metadata": {},
   "outputs": [
    {
     "output_type": "stream",
     "name": "stdout",
     "text": [
      "1.414213562373095048801688724209698078569671875376948073176679737990732478462107038850387534327641573\n"
     ]
    }
   ],
   "source": [
    "\n",
    "print(N(sqrt(2),100))"
   ]
  },
  {
   "source": [
    "ii. Calculate (1/2+1/3) in rational arithmetic"
   ],
   "cell_type": "markdown",
   "metadata": {}
  },
  {
   "cell_type": "code",
   "execution_count": 10,
   "metadata": {},
   "outputs": [
    {
     "output_type": "stream",
     "name": "stdout",
     "text": [
      "5/6\n"
     ]
    }
   ],
   "source": [
    "num1 = Rational(1,2)\n",
    "num2 = Rational(1,3)\n",
    "print(num1 + num2)"
   ]
  },
  {
   "source": [
    "iii. Calculate the expanded form of (x+y) ^ 6"
   ],
   "cell_type": "markdown",
   "metadata": {}
  },
  {
   "cell_type": "code",
   "execution_count": 11,
   "metadata": {},
   "outputs": [
    {
     "output_type": "execute_result",
     "data": {
      "text/plain": [
       "x**6 + 6*x**5*y + 15*x**4*y**2 + 20*x**3*y**3 + 15*x**2*y**4 + 6*x*y**5 + y**6"
      ],
      "text/latex": "$\\displaystyle x^{6} + 6 x^{5} y + 15 x^{4} y^{2} + 20 x^{3} y^{3} + 15 x^{2} y^{4} + 6 x y^{5} + y^{6}$"
     },
     "metadata": {},
     "execution_count": 11
    }
   ],
   "source": [
    "import sympy as sym\n",
    "x = sym.Symbol('x')\n",
    "y = sym.Symbol('y')\n",
    "sym.expand((x+y)**6)"
   ]
  },
  {
   "source": [
    "iv. Simplify the trigonometric expression sin (x) / cos (x)"
   ],
   "cell_type": "markdown",
   "metadata": {}
  },
  {
   "cell_type": "code",
   "execution_count": 12,
   "metadata": {},
   "outputs": [
    {
     "output_type": "execute_result",
     "data": {
      "text/plain": [
       "tan(x)"
      ],
      "text/latex": "$\\displaystyle \\tan{\\left(x \\right)}$"
     },
     "metadata": {},
     "execution_count": 12
    }
   ],
   "source": [
    "x =Symbol('x')\n",
    "simplify(sin(x)/cos(x))"
   ]
  },
  {
   "source": [
    "v. Calculate sin x -xx^3n"
   ],
   "cell_type": "markdown",
   "metadata": {}
  },
  {
   "cell_type": "code",
   "execution_count": null,
   "metadata": {},
   "outputs": [],
   "source": [
    "x =Symbol('x')\n",
    "n =Symbol('n')\n",
    "solveset(sin(x)-x*x**(3*n),x)"
   ]
  },
  {
   "source": [
    "2) Develop a python code to carry out the operations on the given algebraic manipulation for the given expression \n",
    "```a−ab+ab−b=a−b``` by using the symbolic programming paradigms principles."
   ],
   "cell_type": "markdown",
   "metadata": {}
  },
  {
   "cell_type": "code",
   "execution_count": 18,
   "metadata": {},
   "outputs": [
    {
     "output_type": "execute_result",
     "data": {
      "text/plain": [
       "a**2 - b**2"
      ],
      "text/latex": "$\\displaystyle a^{2} - b^{2}$"
     },
     "metadata": {},
     "execution_count": 18
    }
   ],
   "source": [
    "a = symbols('a')\n",
    "b = symbols('b')\n",
    "ab = symbols('ab')\n",
    "ans = simplify(a**2-ab+ab-b**2)\n",
    "ans"
   ]
  },
  {
   "source": [
    "### Question 3\n",
    "\n",
    "a. ∬a^2 da"
   ],
   "cell_type": "markdown",
   "metadata": {}
  },
  {
   "cell_type": "code",
   "execution_count": 15,
   "metadata": {},
   "outputs": [
    {
     "output_type": "stream",
     "name": "stdout",
     "text": [
      "First integration: a**3/3\nSecond integration: a**4/12\n"
     ]
    }
   ],
   "source": [
    "a = symbols('a')\n",
    "x = integrate('a**2',a)\n",
    "y = integrate(x,a)\n",
    "print(\"First integration: \"+ str(x))\n",
    "print(\"Second integration: \"+ str(y))"
   ]
  },
  {
   "source": [
    "b. 2x+y^2"
   ],
   "cell_type": "markdown",
   "metadata": {}
  },
  {
   "cell_type": "code",
   "execution_count": 16,
   "metadata": {},
   "outputs": [
    {
     "output_type": "execute_result",
     "data": {
      "text/plain": [
       "2*x + y**2"
      ],
      "text/latex": "$\\displaystyle 2 x + y^{2}$"
     },
     "metadata": {},
     "execution_count": 16
    }
   ],
   "source": [
    "x=Symbol('x')\n",
    "y=Symbol('y')\n",
    "2*x+y**2"
   ]
  },
  {
   "cell_type": "code",
   "execution_count": 17,
   "metadata": {},
   "outputs": [
    {
     "output_type": "execute_result",
     "data": {
      "text/plain": [
       "3/10"
      ],
      "text/latex": "$\\displaystyle \\frac{3}{10}$"
     },
     "metadata": {},
     "execution_count": 17
    }
   ],
   "source": [
    "a=Rational(1,10)\n",
    "b=Rational(1,5)\n",
    "a + b"
   ]
  },
  {
   "source": [
    "d. d/dx(sin(x))"
   ],
   "cell_type": "markdown",
   "metadata": {}
  },
  {
   "cell_type": "code",
   "execution_count": 19,
   "metadata": {},
   "outputs": [
    {
     "output_type": "stream",
     "name": "stdout",
     "text": [
      "Differentiation of sin(x): cos(x)\n"
     ]
    }
   ],
   "source": [
    "x=Symbol('x')\n",
    "a=diff(sin(x),x)\n",
    "print(\"Differentiation of sin(x): \"+ str(a))"
   ]
  }
 ]
}