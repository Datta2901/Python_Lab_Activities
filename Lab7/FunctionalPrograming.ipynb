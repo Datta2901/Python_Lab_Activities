{
 "metadata": {
  "language_info": {
   "codemirror_mode": {
    "name": "ipython",
    "version": 3
   },
   "file_extension": ".py",
   "mimetype": "text/x-python",
   "name": "python",
   "nbconvert_exporter": "python",
   "pygments_lexer": "ipython3",
   "version": "3.8.5-final"
  },
  "orig_nbformat": 2,
  "kernelspec": {
   "name": "python3",
   "display_name": "Python 3.8.5 64-bit (conda)",
   "metadata": {
    "interpreter": {
     "hash": "514c875f458a4eeecf57fff9a8f241a0d348fbc5534b67b68517d23698dc73f9"
    }
   }
  }
 },
 "nbformat": 4,
 "nbformat_minor": 2,
 "cells": [
  {
   "source": [
    "1. Calculate the following using Lambda calculus:\n",
    "\n"
   ],
   "cell_type": "markdown",
   "metadata": {}
  },
  {
   "source": [
    "a. T AND F"
   ],
   "cell_type": "markdown",
   "metadata": {}
  },
  {
   "cell_type": "code",
   "execution_count": 1,
   "metadata": {},
   "outputs": [
    {
     "output_type": "stream",
     "name": "stdout",
     "text": [
      "False\n"
     ]
    }
   ],
   "source": [
    "result = lambda a : a and False\n",
    "\n",
    "print(result(True))"
   ]
  },
  {
   "source": [
    "b. 3 * 4"
   ],
   "cell_type": "markdown",
   "metadata": {}
  },
  {
   "cell_type": "code",
   "execution_count": 3,
   "metadata": {},
   "outputs": [
    {
     "output_type": "stream",
     "name": "stdout",
     "text": [
      "3 * 4 = 12\n"
     ]
    }
   ],
   "source": [
    "mult = lambda a,b : a * b\n",
    "print(\"3 * 4 = \" + str(mult(3,4)))"
   ]
  },
  {
   "source": [
    "2. Lambda functions\n",
    "a. Write a lambda function to convert measurements from meters to feet.\n",
    "\n"
   ],
   "cell_type": "markdown",
   "metadata": {}
  },
  {
   "source": [
    "meters__feet = lambda a : a *3.28084\n",
    "print(\"Meteres to feet : \" + str(meters__feet(3)))"
   ],
   "cell_type": "code",
   "metadata": {},
   "execution_count": 9,
   "outputs": [
    {
     "output_type": "stream",
     "name": "stdout",
     "text": [
      "Meteres to feet : 9.84252\n"
     ]
    }
   ]
  },
  {
   "source": [
    "b. Write a lambda function in Python to implement the following lambda expression:\n",
    "\n",
    "\n",
    "Note: You need to write a nested lambda function for implementing f+m where f takes the\n",
    "square function (which takes argument x) passed as a parameter. The above expression\n",
    "calculates a 2 +b."
   ],
   "cell_type": "markdown",
   "metadata": {}
  },
  {
   "cell_type": "code",
   "execution_count": 10,
   "metadata": {},
   "outputs": [
    {
     "output_type": "stream",
     "name": "stdout",
     "text": [
      "29\n"
     ]
    }
   ],
   "source": [
    "result = lambda a : a * a\n",
    "add = lambda a,b : a + b\n",
    "\n",
    "print(add(result(5),4))"
   ]
  },
  {
   "source": [
    "3. Passing and returning a function as an argument\n",
    "Define a function ‘square’ for squaring a number. Define a function named ‘twice’ that takes a\n",
    "function f as an argument and returns f(f(x)). Using ‘twice’ and ‘square’ create a function ‘quad’ that\n",
    "takes n as an argument and returns n 4 . ‘quad’ should not be defined explicitly. It should only be\n",
    "created as a variable which is then assigned a function."
   ],
   "cell_type": "markdown",
   "metadata": {}
  },
  {
   "cell_type": "code",
   "execution_count": 21,
   "metadata": {},
   "outputs": [
    {
     "output_type": "stream",
     "name": "stdout",
     "text": [
      "5 ^ 4 = 625\n"
     ]
    }
   ],
   "source": [
    "def square(n):\n",
    "    return n ** 2\n",
    "\n",
    "def twice(f):\n",
    "    return square(f)\n",
    "\n",
    "n = int(input(\"Enter a number\"))\n",
    "quad = twice(square(n))\n",
    "print(str(n) + \" ^ 4 = \" + str(quad))\n"
   ]
  },
  {
   "source": [
    "Closure\n",
    "\n",
    "4.A Closure is a function object that remembers values in enclosing scopes even if they are not present\n",
    "in memory. We have a closure in Python when a nested function references a value in its enclosing\n",
    "scope.\n",
    "\n",
    "\n",
    "a. Study the following program by executing it:\n",
    "\n",
    "def multiplier_of(n):\n",
    "\n",
    "def multiplier(number):\n",
    "\n",
    "return number*n\n",
    "\n",
    "return multiplier\n",
    "\n",
    "multiplywith5 = multiplier_of(5)\n",
    "\n",
    "print(multiplywith5(9))"
   ],
   "cell_type": "markdown",
   "metadata": {}
  },
  {
   "cell_type": "code",
   "execution_count": 14,
   "metadata": {},
   "outputs": [
    {
     "output_type": "stream",
     "name": "stdout",
     "text": [
      "<function multiplier_of.<locals>.multiplier at 0x000002E39305F9D0>\n45\n"
     ]
    }
   ],
   "source": [
    "def multiplier_of(n):\n",
    "    def multiplier(number):\n",
    "        return number*n\n",
    "    return multiplier\n",
    "multiplywith5 = multiplier_of(5)\n",
    "# print(multiplywith5)\n",
    "print(multiplywith5(9))"
   ]
  },
  {
   "source": [],
   "cell_type": "markdown",
   "metadata": {}
  },
  {
   "source": [
    "4 (b)In a lottery system, random number is chosen by retrieving the number from a\n",
    "random index from a list of random numbers. Write a program to choose a random\n",
    "number in this way. You must use nested functions – the inner function chooses a\n",
    "number from a random index and the outer function generates a random list of\n",
    "numbers. The outer function takes n as a parameter where is the maximum number\n",
    "that can be put in the random list. (Your code should be similar to the program in\n",
    "5a)"
   ],
   "cell_type": "markdown",
   "metadata": {}
  },
  {
   "source": [
    "Used Function description : \n",
    "    Using random.sample()\n",
    "\n",
    "We can also use the sample() method available in random module to directly generate a list of random numbers.Here we specify a range and give how many random numbers we need to generate"
   ],
   "cell_type": "markdown",
   "metadata": {}
  },
  {
   "cell_type": "code",
   "execution_count": 29,
   "metadata": {},
   "outputs": [
    {
     "output_type": "stream",
     "name": "stdout",
     "text": [
      "Generated List is  [1, 10, 2, 5, 11, 8, 3, 9, 12, 4, 0, 7]\nChoosen Index is 3\nChoosen random number from list is :  5\n"
     ]
    }
   ],
   "source": [
    "import random \n",
    "def GenerateRandom(reqLength):\n",
    "    numbers = random.sample(range(0,reqLength + 1),reqLength)\n",
    "    print(\"Generated List is \",numbers)\n",
    "    def index():\n",
    "        i = random.randint(0,reqLength + 1)\n",
    "        print(\"Choosen Index is \"+str(i))\n",
    "        return numbers[i]\n",
    "    return index() \n",
    "\n",
    "    \n",
    "reqLength = int(input(\"Enter a number : \"))\n",
    "print(\"Choosen random number from list is : \",GenerateRandom(reqLength))"
   ]
  },
  {
   "source": [
    "A secret message needs to be sent. Use the map function to encrypt the message using Caesar cipher."
   ],
   "cell_type": "markdown",
   "metadata": {}
  },
  {
   "cell_type": "code",
   "execution_count": 40,
   "metadata": {},
   "outputs": [
    {
     "output_type": "stream",
     "name": "stdout",
     "text": [
      "['b', 'c', 'd', 'e']\n"
     ]
    }
   ],
   "source": [
    "def encrypt(msg,gap):\n",
    "    if (msg.islower()):\n",
    "        return chr((ord(msg) + gap - 97) % 26 + 97)\n",
    "    if (msg.isupper()):\n",
    "        return chr((ord(msg) + gap - 65) % 26 + 65)\n",
    "\n",
    "msg = input(\"Enter the word : \")\n",
    "gap = int(input(\"Enter the number of places to shift : \"))\n",
    "answer = list(map(encrypt,msg, [gap] * len(msg)))\n",
    "print(answer)"
   ]
  },
  {
   "source": [
    "Given runs scored by 2 players in a series of matches, write a Python program using reduce function\n",
    "to find who is the better player of the two in terms of maintaining consistency. (You need to find\n",
    "SD)."
   ],
   "cell_type": "markdown",
   "metadata": {}
  },
  {
   "cell_type": "code",
   "execution_count": 48,
   "metadata": {},
   "outputs": [
    {
     "output_type": "stream",
     "name": "stdout",
     "text": [
      "player 1 performance :  [1, 2, 3, 4, 5]\nplayer 2 performance :  [1, 2, 3, 4, 5]\nBoth players are Consistent\n"
     ]
    }
   ],
   "source": [
    "import functools\n",
    "import operator\n",
    "\n",
    "def variance(data):\n",
    "    n = len(data)\n",
    "    mean = (functools.reduce(operator.add,data)) / n\n",
    "    deviations = [(x - mean) ** 2 for x in data]\n",
    "    variance = (functools.reduce(operator.add,deviations)) / n\n",
    "    return variance\n",
    "\n",
    "player1 = [int(x) for x  in  input().split()]\n",
    "player2 = [int(x) for x in input().split()]\n",
    "\n",
    "print(\"player 1 performance : \",player1)\n",
    "print(\"player 2 performance : \",player2)\n",
    "p1v = variance(player1)\n",
    "p2v = variance(player2)\n",
    "\n",
    "if(p1v > p2v):\n",
    "    print(\"Player 2 is Consistent\")\n",
    "elif(p1v == p2v):\n",
    "    print(\"Both players are Consistent\")\n",
    "else:\n",
    "    print(\"Player 1 is Consistent\")\n"
   ]
  },
  {
   "source": [
    "8. Filter\n",
    "The marks scored by a class of students in 5 different subjects are stored in a list of lists. Using the\n",
    "filter function, write a program to find the students who failed in one or more subjects."
   ],
   "cell_type": "markdown",
   "metadata": {}
  },
  {
   "cell_type": "code",
   "execution_count": 66,
   "metadata": {},
   "outputs": [
    {
     "output_type": "stream",
     "name": "stdout",
     "text": [
      "Scores :  [[100, 200, 300, 23], [23, 45, 100]]\nStudent 0 failed in atleast one subject.\nStudent 1 failed in atleast one subject.\n"
     ]
    }
   ],
   "source": [
    "n = int(input(\"Enter Number of  subjects\"))\n",
    "s = []\n",
    "for i in range(n):\n",
    "     b = list(map(int, input().split()))\n",
    "     s.append(b)\n",
    "print(\"Scores : \",s)\n",
    "\n",
    "def fail(s):\n",
    "    for i in s:\n",
    "        if i < 35:\n",
    "            return 1\n",
    "\n",
    "obj = filter(fail, s)\n",
    "answer = list(obj)\n",
    "for i in range(0, len(s)):\n",
    "    if s[i] in answer:\n",
    "        print(\"Student \"+ str(i) +  \" failed in atleast one subject.\")\n"
   ]
  },
  {
   "source": [
    "Map + reduce + filter\n",
    "\n",
    "Given two trending topics and a bunch of tweets, write a Python program to count the number of\n",
    "\n",
    "tweets that contain each topic. You need to do this by putting together map(), reduce() and filter()\n",
    "\n",
    "functions."
   ],
   "cell_type": "markdown",
   "metadata": {}
  },
  {
   "cell_type": "code",
   "execution_count": 65,
   "metadata": {},
   "outputs": [
    {
     "output_type": "stream",
     "name": "stdout",
     "text": [
      "mi count :  2\nrcb source:  2\n"
     ]
    }
   ],
   "source": [
    "source = [\"#MumbaiIndians one of the best team \",\"#MumbaiIndians one of the most successful team \",\n",
    "\"#Rcb one of the best team \",\n",
    "\"#Rcb one of the most successful team \",\n",
    "\"Nothing\"]\n",
    "\n",
    "\n",
    "ipl1 = [\"#mumbaiindians\"] * len(source)\n",
    "ipl2= [\"#rcb\"] * len(source)\n",
    "\n",
    "def divide(lst, topic):\n",
    "    if topic in lst.lower():\n",
    "        return lst\n",
    "\n",
    "ans1 = list(map(divide, source, ipl1))\n",
    "ans2 = list(map(divide, source, ipl2))\n",
    "\n",
    "def filter_list(lst):\n",
    "    if lst != \"\":\n",
    "        return lst\n",
    "\n",
    "mi = list(filter(filter_list, ans1))\n",
    "rcb = list(filter(filter_list, ans2))\n",
    "\n",
    "print(\"mi count : \",len(mi))\n",
    "print(\"rcb source: \",len(rcb))"
   ]
  },
  {
   "cell_type": "code",
   "execution_count": null,
   "metadata": {},
   "outputs": [],
   "source": []
  }
 ]
}