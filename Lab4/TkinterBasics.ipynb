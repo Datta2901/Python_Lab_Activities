{
 "cells": [
  {
   "cell_type": "code",
   "execution_count": 1,
   "metadata": {},
   "outputs": [],
   "source": [
    "import tkinter as tk\n",
    "root = tk.Tk()\n",
    "button = tk.Button(root, text='Stop', width=25, command=root.destroy) \n",
    "button.pack() \n",
    "root.mainloop()\n"
   ]
  },
  {
   "cell_type": "code",
   "execution_count": 7,
   "metadata": {},
   "outputs": [],
   "source": [
    "import tkinter as tk\n",
    "root = tk.Tk()\n",
    "label = tk.Label(root, text='Hello World!')\n",
    "label.grid()\n",
    "root.mainloop()\n"
   ]
  },
  {
   "cell_type": "code",
   "execution_count": 8,
   "metadata": {},
   "outputs": [],
   "source": [
    "import tkinter as tk \n",
    "r = tk.Tk() \n",
    "r.title('Counting Seconds') \n",
    "button = tk.Button(r, text='Stop', width=25, command=r.destroy) \n",
    "button.pack() \n",
    "r.mainloop() \n"
   ]
  },
  {
   "cell_type": "code",
   "execution_count": 9,
   "metadata": {},
   "outputs": [],
   "source": [
    "import tkinter as tk\n",
    "from tkinter import messagebox\n",
    "def hello():\n",
    "   msg = messagebox.showinfo( \"GUI Event Demo\",\"Button Demo\")\n",
    "root = tk.Tk()\n",
    "root.geometry(\"200x200\")\n",
    "b = tk.Button(root, text='Fire Me',command=hello)\n",
    "b.place(x=50,y=50)\n",
    "root.mainloop()\n"
   ]
  },
  {
   "cell_type": "code",
   "execution_count": 10,
   "metadata": {},
   "outputs": [],
   "source": [
    "def hello():\n",
    "   msg = messagebox.showinfo( \"GUI Event Demo\",t.get())\n",
    "root = tk.Tk()\n",
    "root.geometry(\"200x200\")\n",
    "l1=tk.Label(root,text=\"Name:\")\n",
    "l1.grid(row=0)\n",
    "t=tk.Entry(root)\n",
    "t.grid(row=0,column=1)\n",
    "b = tk.Button(root, text='Fire Me',command=hello)\n",
    "b.grid(row=1,columnspan=2);\n",
    "root.mainloop()\n"
   ]
  },
  {
   "cell_type": "code",
   "execution_count": 11,
   "metadata": {},
   "outputs": [],
   "source": [
    "from tkinter import *\n",
    "master = Tk() \n",
    "w = Canvas(master, width=40, height=60) \n",
    "w.pack() \n",
    "canvas_height=20\n",
    "canvas_width=200\n",
    "y = int(canvas_height / 2) \n",
    "w.create_line(0, y, canvas_width, y ) \n",
    "mainloop()\n"
   ]
  },
  {
   "cell_type": "code",
   "execution_count": 12,
   "metadata": {},
   "outputs": [],
   "source": [
    "from tkinter import *\n",
    "from tkinter import messagebox\n",
    "top = Tk()\n",
    "C = Canvas(top, bg = \"blue\", height = 250, width = 300)\n",
    "coord = 10, 50, 240, 210\n",
    "arc = C.create_arc(coord, start = 0, extent = 150, fill = \"red\")\n",
    "line = C.create_line(10,10,200,200,fill = 'white')\n",
    "C.pack()\n",
    "top.mainloop()\n"
   ]
  },
  {
   "cell_type": "code",
   "execution_count": 13,
   "metadata": {},
   "outputs": [],
   "source": [
    "from tkinter import * \n",
    "def test():\n",
    "    if(v1.get()==1 ):\n",
    "        v2.set(0)\n",
    "        print(\"Male\")\n",
    "    if(v2.get()==1):\n",
    "        v1.set(0)\n",
    "        print(\"Female\")    \n",
    "\n",
    "root= Tk()\n",
    "root.title('Checkbutton Demo') \n",
    "v1=IntVar()\n",
    "v2=IntVar()\n",
    "cb1=Checkbutton(root,text='Male', variable=v1,onvalue=1, offvalue=0, command=test)\n",
    "cb1.grid(row=0)\n",
    "cb2=Checkbutton(root,text='Female', variable=v2,onvalue=1, offvalue=0, command=test)\n",
    "cb2.grid(row=1)\n",
    "root.mainloop() \n"
   ]
  },
  {
   "cell_type": "code",
   "execution_count": 14,
   "metadata": {},
   "outputs": [],
   "source": [
    "def choice():\n",
    "    if(radio.get()==1):\n",
    "        root.configure(background='red')\n",
    "    elif(radio.get()==2):\n",
    "        root.configure(background='blue')\n",
    "    elif(radio.get()==3):\n",
    "        root.configure(background='green')\n",
    "root= Tk()\n",
    "root.geometry(\"200x200\")\n",
    "radio=IntVar()\n",
    "rb1=Radiobutton(root,text='Red', variable=radio,width=25,value=1, command=choice)\n",
    "rb1.grid(row=0)\n",
    "rb2=Radiobutton(root,text='Blue', variable=radio,width=25,value=2, command=choice)\n",
    "rb2.grid(row=1)\n",
    "rb3=Radiobutton(root,text='Green', variable=radio,width=25,value=3, command=choice)\n",
    "rb3.grid(row=3)\n",
    "root.mainloop() \n"
   ]
  },
  {
   "cell_type": "code",
   "execution_count": 15,
   "metadata": {},
   "outputs": [],
   "source": [
    "from tkinter import messagebox\n",
    "root= Tk()\n",
    "root.title('Scale Demo')\n",
    "root.geometry(\"200x200\")\n",
    "def slide():\n",
    "    msg = messagebox.showinfo( \"GUI Event Demo\",v.get())\n",
    "v = DoubleVar()  \n",
    "scale = Scale( root, variable = v, from_ = 1, to = 50, orient = HORIZONTAL)  \n",
    "scale.pack(anchor=CENTER)\n",
    "btn = Button(root, text=\"Value\", command=slide)  \n",
    "btn.pack(anchor=CENTER)  \n",
    "root.mainloop() \n"
   ]
  },
  {
   "cell_type": "code",
   "execution_count": 16,
   "metadata": {},
   "outputs": [],
   "source": [
    "from tkinter import *\n",
    "from tkinter import messagebox\n",
    "\n",
    "root= Tk()\n",
    "root.title('Scale Demo')\n",
    "root.geometry(\"200x200\")\n",
    "\n",
    "def slide():\n",
    "    msg = messagebox.showinfo( \"SpinBox Event Demo\",spin.get())\n",
    "  \n",
    "spin = Spinbox(root, from_= 0, to = 25)  \n",
    "spin.pack(anchor=CENTER)  \n",
    "btn = Button(root, text=\"Value\", command=slide)  \n",
    "btn.pack(anchor=CENTER)  \n",
    "root.mainloop() \n"
   ]
  },
  {
   "cell_type": "code",
   "execution_count": 17,
   "metadata": {},
   "outputs": [],
   "source": [
    "from tkinter import *\n",
    "from tkinter import messagebox\n",
    "root= Tk()\n",
    "root.title('Scale Demo')\n",
    "root.geometry(\"200x200\")\n",
    "menubutton = Menubutton(root, text = \"File\", relief = FLAT)  \n",
    "menubutton.grid()  \n",
    "menubutton.menu = Menu(menubutton)  \n",
    "menubutton[\"menu\"]=menubutton.menu  \n",
    "menubutton.menu.add_checkbutton(label = \"New\", variable=IntVar(),command=\"new\")  \n",
    "menubutton.menu.add_checkbutton(label = \"Open\", variable = IntVar())  \n",
    "menubutton.pack()  \n",
    "root.mainloop() \n"
   ]
  },
  {
   "cell_type": "code",
   "execution_count": 18,
   "metadata": {},
   "outputs": [],
   "source": [
    "from tkinter import *\n",
    "from tkinter import messagebox\n",
    "root= Tk()\n",
    "root.title('Menu Demo')\n",
    "root.geometry(\"200x200\")\n",
    "def new():\n",
    "    print(\"New Menu!\")\n",
    "def disp():\n",
    "    print(\"Open Menu!\")\n",
    "\n",
    "menubutton = Menubutton(root, text=\"File\")\n",
    "menubutton.grid()\n",
    "menubutton.menu = Menu(menubutton, tearoff = 0)\n",
    "menubutton[\"menu\"] = menubutton.menu\n",
    "menubutton.menu.add_command(label=\"Create new\",command=new)\n",
    "menubutton.menu.add_command(label=\"Open\",command=disp)\n",
    "menubutton.menu.add_separator()\n",
    "menubutton.menu.add_command(label=\"Exit\",command=root.quit)\n",
    "menubutton.pack()\n",
    "\n"
   ]
  },
  {
   "cell_type": "code",
   "execution_count": null,
   "metadata": {},
   "outputs": [],
   "source": []
  }
 ],
 "metadata": {
  "kernelspec": {
   "display_name": "Python 3",
   "language": "python",
   "name": "python3"
  },
  "language_info": {
   "codemirror_mode": {
    "name": "ipython",
    "version": 3
   },
   "file_extension": ".py",
   "mimetype": "text/x-python",
   "name": "python",
   "nbconvert_exporter": "python",
   "pygments_lexer": "ipython3",
   "version": "3.8.5"
  }
 },
 "nbformat": 4,
 "nbformat_minor": 4
}
