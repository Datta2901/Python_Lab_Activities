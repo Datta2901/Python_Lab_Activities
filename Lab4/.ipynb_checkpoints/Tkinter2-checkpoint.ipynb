{
 "cells": [
  {
   "cell_type": "code",
   "execution_count": null,
   "metadata": {},
   "outputs": [
    {
     "name": "stdout",
     "output_type": "stream",
     "text": [
      "Male\n",
      "Female\n"
     ]
    }
   ],
   "source": [
    "from tkinter import * \n",
    "def test():\n",
    "    if(v1.get()==1 ):\n",
    "        v2.set(0)\n",
    "        print(\"Male\")\n",
    "    if(v2.get()==1):\n",
    "        v1.set(0)\n",
    "        print(\"Female\")    \n",
    "\n",
    "root= Tk()\n",
    "root.title('Checkbutton Demo') \n",
    "v1=IntVar()\n",
    "v2=IntVar()\n",
    "cb1=Checkbutton(root,text='Male', variable=v1,onvalue=1, offvalue=0, command=test)\n",
    "cb1.grid(row=0)\n",
    "cb2=Checkbutton(root,text='Female', variable=v2,onvalue=1, offvalue=0, command=test)\n",
    "cb2.grid(row=1)\n",
    "root.mainloop() "
   ]
  },
  {
   "cell_type": "code",
   "execution_count": 3,
   "metadata": {},
   "outputs": [],
   "source": [
    "def choice():\n",
    "    if(radio.get()==1):\n",
    "        root.configure(background='red')\n",
    "    elif(radio.get()==2):\n",
    "        root.configure(background='blue')\n",
    "    elif(radio.get()==3):\n",
    "        root.configure(background='green')\n",
    "root= Tk()\n",
    "root.geometry(\"200x200\")\n",
    "radio=IntVar()\n",
    "rb1=Radiobutton(root,text='Red', variable=radio,width=25,value=1, command=choice)\n",
    "rb1.grid(row=0)\n",
    "rb2=Radiobutton(root,text='Blue', variable=radio,width=25,value=2, command=choice)\n",
    "rb2.grid(row=1)\n",
    "rb3=Radiobutton(root,text='Green', variable=radio,width=25,value=3, command=choice)\n",
    "rb3.grid(row=3)\n",
    "root.mainloop()"
   ]
  },
  {
   "cell_type": "code",
   "execution_count": null,
   "metadata": {},
   "outputs": [],
   "source": []
  }
 ],
 "metadata": {
  "kernelspec": {
   "display_name": "Python 3",
   "language": "python",
   "name": "python3"
  },
  "language_info": {
   "codemirror_mode": {
    "name": "ipython",
    "version": 3
   },
   "file_extension": ".py",
   "mimetype": "text/x-python",
   "name": "python",
   "nbconvert_exporter": "python",
   "pygments_lexer": "ipython3",
   "version": "3.8.5"
  }
 },
 "nbformat": 4,
 "nbformat_minor": 4
}
