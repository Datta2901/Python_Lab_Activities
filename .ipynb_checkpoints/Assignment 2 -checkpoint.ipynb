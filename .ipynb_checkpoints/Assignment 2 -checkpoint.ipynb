{
 "cells": [
  {
   "cell_type": "markdown",
   "metadata": {
    "slideshow": {
     "slide_type": "skip"
    }
   },
   "source": [
    "# Assignment 2 (Set 2)\n",
    "#### RA1911026010033\n"
   ]
  },
  {
   "cell_type": "markdown",
   "metadata": {},
   "source": [
    "# Question - 1:\n",
    "Write a function pyramid that gets the number of lines as argument and prints the below pyramid"
   ]
  },
  {
   "cell_type": "code",
   "execution_count": 2,
   "metadata": {},
   "outputs": [
    {
     "name": "stdout",
     "output_type": "stream",
     "text": [
      "Enter a number :  8\n",
      "              1  \n",
      "            2 1 2  \n",
      "          3 2 1 2 3  \n",
      "        4 3 2 1 2 3 4  \n",
      "      5 4 3 2 1 2 3 4 5  \n",
      "    6 5 4 3 2 1 2 3 4 5 6  \n",
      "  7 6 5 4 3 2 1 2 3 4 5 6 7  \n",
      "8 7 6 5 4 3 2 1 2 3 4 5 6 7 8  \n"
     ]
    }
   ],
   "source": [
    "# To print pyramid og given n lines\n",
    "\n",
    "number0033 = int(input(\"Enter a number :  \"))\n",
    "for i0033 in range(1,number0033 + 1):\n",
    "    for k0033 in range(0,number0033 - i0033):\n",
    "        print(end = \"  \")\n",
    "    for l0033 in range(i0033,1,-1):\n",
    "        print(l0033,end = \" \")\n",
    "    for j0033 in range(1,i0033+1):\n",
    "        print(j0033,end = \" \")\n",
    "    print(\" \")    "
   ]
  },
  {
   "cell_type": "markdown",
   "metadata": {},
   "source": [
    "# Question - 2 :\n",
    "You are given a list of tuples with each tuple having three elements of the format (a,b,c) where a,b and c are positive integers. Create a lambda function that takes three arguments a, b and c and returns the output (a+b)2 + c.  Use this lambda function on the list of tuples with the Python built in map function to generate a new list of answers of lambda expression."
   ]
  },
  {
   "cell_type": "code",
   "execution_count": 3,
   "metadata": {},
   "outputs": [
    {
     "name": "stdout",
     "output_type": "stream",
     "text": [
      "Enter number of rows : 3\n",
      "1 2 3\n",
      "2 3 4\n",
      "5 6 7\n",
      "[9, 14, 29]\n"
     ]
    }
   ],
   "source": [
    "n0033=int(input('Enter number of rows : '))\n",
    "numbers0033 = list(tuple(map(int,input().split())) for r in range(n0033))\n",
    "res0033=[]\n",
    "result0033 = lambda num10033,num20033,num30033:(num10033+num20033)* 2 + num30033\n",
    "for i in range(n0033):\n",
    "    num10033=numbers0033[i][0]\n",
    "    num20033=numbers0033[i][1]\n",
    "    num30033=numbers0033[i][2]    \n",
    "    res0033.append(result0033(num10033,num20033,num30033))\n",
    "print(res0033)"
   ]
  },
  {
   "cell_type": "markdown",
   "metadata": {},
   "source": [
    "# Question - 3 :\n",
    "Check if parantheses (),{} or [] in an expression is balanced."
   ]
  },
  {
   "cell_type": "code",
   "execution_count": 5,
   "metadata": {},
   "outputs": [
    {
     "name": "stdout",
     "output_type": "stream",
     "text": [
      "(2+4*[89-5(78+16)]-6)\n",
      "Balanced\n"
     ]
    }
   ],
   "source": [
    "Stack0033=[]\n",
    "word0033 = str(input())\n",
    "for letter0033 in word0033 : \n",
    "    if(letter0033 ==\"(\" or letter0033==\"[\" or letter0033==\"{\"):\n",
    "        Stack0033.append(letter0033)\n",
    "    elif((letter0033==\")\" or letter0033==\"]\" or letter0033==\"}\") and Stack0033==[]):\n",
    "        Stack0033.append(letter0033)\n",
    "        break\n",
    "    elif(Stack0033[-1]==\"(\"):\n",
    "        if(letter0033==\")\"):\n",
    "            Stack0033.pop()\n",
    "    elif(Stack0033[-1]==\"{\"):\n",
    "        if(letter0033==\"}\"):\n",
    "            Stack0033.pop()\n",
    "    elif(Stack0033[-1]==\"[\"):\n",
    "        if(letter0033==\"]\"):\n",
    "            Stack0033.pop()\n",
    "if(Stack0033==[]):\n",
    "    print(\"Balanced\")\n",
    "else:\n",
    "    print(\"Unbalanced\")"
   ]
  },
  {
   "cell_type": "markdown",
   "metadata": {},
   "source": [
    "# Question 4\n",
    "Get a list of non-empty tuples from the user. You can use any end of sequence representation e.g “end” or “quit” for tuples and list input entry. Write a function sort_tuple(). Input to the function is the list of tuples entered by the user. Output from the function is a sorted list according to the condition - sorted in increasing order by the last element in each tuple. "
   ]
  },
  {
   "cell_type": "code",
   "execution_count": 8,
   "metadata": {
    "scrolled": true
   },
   "outputs": [
    {
     "name": "stdout",
     "output_type": "stream",
     "text": [
      "Enter number of rows : 5\n",
      "1 2\n",
      "3 9\n",
      "4 5\n",
      "5 7\n",
      "7 4\n",
      "After sorting the given tuples based on last element :  [(1, 2), (7, 4), (4, 5), (5, 7), (3, 9)]\n"
     ]
    }
   ],
   "source": [
    "def sort_tuple(tuple0033):   \n",
    "    tuple0033.sort(key = lambda x: x[-1])   \n",
    "    return tuple0033   \n",
    "number0033=int(input('Enter number of rows : '))\n",
    "listOfTuples0033 = list(tuple(map(int,input().split())) for r in range(number0033))\n",
    "print(\"After sorting the given tuples based on last element : \", end = \" \")\n",
    "print(sort_tuple(listOfTuples0033))"
   ]
  },
  {
   "cell_type": "markdown",
   "metadata": {},
   "source": [
    "# Question : 5\n",
    "Create a function that takes an integer between 0 and 999 as its only parameter, and returns a string containing the English words for that number."
   ]
  },
  {
   "cell_type": "code",
   "execution_count": 9,
   "metadata": {
    "slideshow": {
     "slide_type": "notes"
    }
   },
   "outputs": [
    {
     "name": "stdout",
     "output_type": "stream",
     "text": [
      "Enter a number less than 1000:999\n",
      "Nine hundred  Ninety Nine  \n"
     ]
    }
   ],
   "source": [
    "numbersLessThan110033= {0:'zero',1: 'One', 2: 'Two', 3: 'Three', 4: 'Four', 5: 'Five', 6: 'Six', 7: 'Seven', 8: 'Eight',\\\n",
    "                        9: 'Nine', 10: 'Ten', 11: 'Eleven', 12: 'Twelve', 13: 'Thirteen',\\\n",
    "                        14: 'Fourteen', 15: 'Fifteen', 16: 'Sixteen', 17: 'Seventeen', 18: 'Eighteen', 19: 'Nineteen'}\n",
    "someFIxedNumbers0033 = {2:'Twenty', 3:'Thirty',4: 'Forty', 5:'Fifty',6: 'Sixty', 7:'Seventy', 8:'Eighty', 9:'Ninety'}\n",
    "SomeStandardNumbers0033 = {1:'One hundred ',2:'Two hundred ', 3:'Three hundred ',4: 'Four hundred ', 5:'Five hundred ',6: 'Six hundred ', 7:'Seven hundred ', 8:'Eight hundred ', 9:'Nine hundred '}\n",
    "number0033=int(input(\"Enter a number less than 1000:\"))\n",
    "if(number0033<=19):\n",
    "    print(numbersLessThan110033[number0033],end = \"  \")\n",
    "elif(number0033>=20)and(number0033<100):\n",
    "    coe0033=int(number0033/10)\n",
    "    print(someFIxedNumbers0033[coe0033],end = \" \")\n",
    "    coe00332=number0033%10\n",
    "    if(coe00332 != 0):\n",
    "        print(numbersLessThan110033[coe00332],end = \" \")\n",
    "elif(number0033>=100)and(number0033<1000):\n",
    "    coe0033=number0033/100\n",
    "    coe0033=int(coe0033)\n",
    "    print(SomeStandardNumbers0033[coe0033],end = \" \")\n",
    "    rem0033=number0033%100\n",
    "    if(rem0033<=19):\n",
    "        if(rem0033 != 0):\n",
    "            print(numbersLessThan110033[rem0033],end = \" \")\n",
    "    elif(rem0033>=20)and(rem0033<100):\n",
    "        coe0033=rem0033/10\n",
    "        coe0033=int(coe0033)\n",
    "        print(someFIxedNumbers0033[coe0033],end = \" \")\n",
    "        coe00332=rem0033%10\n",
    "        if(coe00332 != 0):\n",
    "            print(numbersLessThan110033[coe00332],end = \" \")\n",
    "print(\" \")        "
   ]
  },
  {
   "cell_type": "code",
   "execution_count": null,
   "metadata": {},
   "outputs": [],
   "source": []
  }
 ],
 "metadata": {
  "kernelspec": {
   "display_name": "Python 3",
   "language": "python",
   "name": "python3"
  },
  "language_info": {
   "codemirror_mode": {
    "name": "ipython",
    "version": 3
   },
   "file_extension": ".py",
   "mimetype": "text/x-python",
   "name": "python",
   "nbconvert_exporter": "python",
   "pygments_lexer": "ipython3",
   "version": "3.8.5"
  }
 },
 "nbformat": 4,
 "nbformat_minor": 4
}
