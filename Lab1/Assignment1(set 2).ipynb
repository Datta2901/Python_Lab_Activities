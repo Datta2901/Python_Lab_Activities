{
 "cells": [
  {
   "source": [
    "# Question : 1\n",
    "Consider you are automate the Graduity calculation using the following  a program that reads the subtotal and the gratuity rate and computes the gratuity and total. For example, if the user enters 10 for the subtotal and 15% for the gratuity rate, the program displays 1.5 as the gratuity and 11.5 as the total."
   ],
   "cell_type": "markdown",
   "metadata": {}
  },
  {
   "cell_type": "code",
   "execution_count": 1,
   "metadata": {},
   "outputs": [
    {
     "name": "stdout",
     "output_type": "stream",
     "text": [
      "Enter the SubTotal : 10\n",
      "Enter the gratuity rate : 15\n",
      "1.5  as the gratuity\n",
      "11.5 as the total\n"
     ]
    }
   ],
   "source": [
    "SubTotal0033 = int(input('Enter the SubTotal : '))\n",
    "GratuityRate0033 = int(input('Enter the gratuity rate : '))\n",
    "subResult0033 = (float)(GratuityRate0033) * 0.1 \n",
    "Total0033 = SubTotal0033 + subResult0033\n",
    "print(str(subResult0033) + \"  as the gratuity\")\n",
    "print(str(Total0033) + \" as the total\")"
   ]
  },
  {
   "cell_type": "markdown",
   "metadata": {},
   "source": [
    "# Question :2\n",
    "2. Write a program that reads an integer between 0 and 1000 and adds all the digits in the integer. Ensure the Entered number is between the limit if not prompt the user to reenter the number."
   ]
  },
  {
   "cell_type": "code",
   "execution_count": 1,
   "metadata": {},
   "outputs": [
    {
     "name": "stdout",
     "output_type": "stream",
     "text": [
      "Enter a number between 1 - 1000 :121\n",
      "Sum of the digits of 121 is 4\n"
     ]
    }
   ],
   "source": [
    "ok0033 = 1\n",
    "while(ok0033 == 1) :\n",
    "    number0033 = int(input(\"Enter a number between 1 - 1000 :\"))\n",
    "    if(number0033 >= 1 and number0033 <= 1000):\n",
    "        ok0033 = 0\n",
    "        sum0033 = 0\n",
    "        num0033 = number0033\n",
    "        while(number0033 > 0):\n",
    "            sum0033 = int(sum0033 + (number0033 % 10))\n",
    "            number0033 = number0033 / 10;\n",
    "        print(\"Sum of the digits of \" + str(num0033) + \" is \" + str(sum0033))  \n",
    "    else:\n",
    "        print(\"reenter the number in the given range\")    \n",
    "    "
   ]
  },
  {
   "cell_type": "markdown",
   "metadata": {},
   "source": [
    "# Question : 3\n",
    "3. Create a Lottery Application to generate a three-digit lottery number. The program prompts the user to enter a three-digit number and determines whether the user wins according to the following rules:\n",
    "a.If the user input matches the lottery number in the exact order, the award is $10,000.\n",
    "b.If all the digits in the user input match all the digits in the lottery number, the award is $3,000.\n",
    "If one digit in the user input matches a digit in the lottery number, the award is $1,000."
   ]
  },
  {
   "cell_type": "code",
   "execution_count": 2,
   "metadata": {},
   "outputs": [
    {
     "name": "stdout",
     "output_type": "stream",
     "text": [
      "Enter Your lottery ticket number : 121\n",
      "You lost\n"
     ]
    }
   ],
   "source": [
    "import random\n",
    "TicketNumber0033  = input(\"Enter Your lottery ticket number : \")\n",
    "LotteryWin0033  = random.randint(100,999) #Generating a random winnning number\n",
    "# print(\"The winning ticket is \" + str(LotteryWin0033))\n",
    "if TicketNumber0033 == str(LotteryWin0033):\n",
    "    print(\"You won $10,000\")\n",
    "else:\n",
    "    ok10033 = 1\n",
    "    ok20033 = 1\n",
    "    ok30033 = 1\n",
    "    count0033 = 0\n",
    "    RequiredDigits0033 = \"\"\n",
    "    # Getting the digits  of Winning ticket\n",
    "    for digit0033 in str(LotteryWin0033):\n",
    "        RequiredDigits0033 += digit0033;\n",
    "    # comparing the digits\n",
    "    for digit0033 in str(TicketNumber0033):\n",
    "        if digit0033 == RequiredDigits0033[0]  and ok10033:\n",
    "            count0033 += 1\n",
    "            ok10033 = 0\n",
    "        if digit0033 == RequiredDigits0033[1]  and ok20033:\n",
    "            count0033 += 1\n",
    "            ok20033 = 0  \n",
    "        if digit0033 == RequiredDigits0033[2] and ok30033:\n",
    "            count0033 += 1\n",
    "            ok30033 = 0     \n",
    "    # printing the results according to the question\n",
    "    if count0033 == 3:\n",
    "        print(\"You won $3,000\")    \n",
    "    elif count0033 == 1:\n",
    "        print(\"You won $1,000\")  \n",
    "    else:\n",
    "        print(\"You lost\")            "
   ]
  },
  {
   "cell_type": "markdown",
   "metadata": {},
   "source": [
    "# Question 4:\n",
    "Create a Scissor and Rock simulator that plays the popular scissor-rockpaper game. (A scissor can cut a paper, a rock can knock a scissor, and a paper can wrap a rock.) The program randomly generates a number 0, 1, or 2 representing scissor, rock, and paper. The program prompts the user to enter a number 0, 1, or 2 and displays a message indicating whether the user or the computer wins, loses, or draws."
   ]
  },
  {
   "cell_type": "code",
   "execution_count": 3,
   "metadata": {},
   "outputs": [
    {
     "name": "stdout",
     "output_type": "stream",
     "text": [
      "Enter a number between (0 - 2) : 0 for scissor, 1 for rock,2 for paper 1\n",
      "Game is drawn\n"
     ]
    }
   ],
   "source": [
    "import random\n",
    "# Rules\n",
    "#  scissor vs rock = rock \n",
    "#  scissor vs paper = scissor\n",
    "#  rock vs paper =  paper\n",
    "valid0033 = 1\n",
    "#  to take a valid input\n",
    "while valid0033:\n",
    "    UserChoice0033 = int(input(\"Enter a number between (0 - 2) : 0 for scissor, 1 for rock,2 for paper \"))\n",
    "    if(UserChoice0033 > 2):\n",
    "        print(\"Invalid Number\")\n",
    "        valid0033 = 1\n",
    "    else:\n",
    "        valid0033 = 0\n",
    "            \n",
    "ComputerChoice0033 = int(random.randint(0, 2)) # Selecting the computer choice\n",
    "# print(\"Computer choice is \" + str(ComputerChoice0033)) \n",
    "   \n",
    "if UserChoice0033 == ComputerChoice0033: # if computer and user selected the same input then draw\n",
    "    print(\"Game is drawn\")\n",
    "elif UserChoice0033 == 0:\n",
    "    if  ComputerChoice0033 == 2:\n",
    "        print(\"You won the game\")\n",
    "    else:\n",
    "        print(\"You lost the game\")\n",
    "elif UserChoice0033 == 1:\n",
    "    if  ComputerChoice0033 == 0:\n",
    "        print(\"You won the game\")\n",
    "    else:\n",
    "        print(\"You lost the game\")\n",
    "else:\n",
    "    if  ComputerChoice0033 == 1:\n",
    "        print(\"You won the game\")\n",
    "    else:\n",
    "        print(\"You lost the game\")\n",
    "                       \n",
    "    \n"
   ]
  },
  {
   "cell_type": "markdown",
   "metadata": {},
   "source": [
    "# Question 5:\n",
    "5. Write a program that reads integers, finds the largest of them, and counts its occurrences. Assume that the input ends with number 0. Suppose that you entered 3 5 2 5 5 5 0; the program finds that the largest number is 5 and the occurrence count for 5 is 4. (Hint: Maintain two variables, max and count. The variable max stores the current maximum number, and count stores its occurrences. Initially, assign the first number to max and 1 to count. Compare each subsequent number with max. If the number is greater than max, assign it to max and reset count to 1. If the number is equal to max, increment count by 1.)"
   ]
  },
  {
   "cell_type": "code",
   "execution_count": 4,
   "metadata": {},
   "outputs": [
    {
     "name": "stdout",
     "output_type": "stream",
     "text": [
      "Enter the numbers (if you want to stop giving number enter 0) : \n",
      "12 \n",
      "12\n",
      "11 \n",
      "10\n",
      "2\n",
      "0\n",
      "Greatest number is 12 with occurences 2\n"
     ]
    }
   ],
   "source": [
    "valid0033 = 1\n",
    "print(\"Enter the numbers (if you want to stop giving number enter 0) : \")\n",
    "max0033 = 0\n",
    "maxfre0033 = 0\n",
    "while valid0033 != 0:\n",
    "    valid0033 = int(input())\n",
    "    if(valid0033 > max0033):\n",
    "       max0033 = valid0033\n",
    "       maxfre0033 = 1\n",
    "    elif valid0033 == max0033:\n",
    "        maxfre0033 += 1 \n",
    "          \n",
    "print(\"Greatest number is \" + str(max0033) + \" with occurences \" + str(maxfre0033))          \n",
    "       \n",
    "    \n"
   ]
  },
  {
   "cell_type": "code",
   "execution_count": null,
   "metadata": {},
   "outputs": [],
   "source": []
  }
 ],
 "metadata": {
  "kernelspec": {
   "display_name": "Python 3",
   "language": "python",
   "name": "python3"
  },
  "language_info": {
   "codemirror_mode": {
    "name": "ipython",
    "version": 3
   },
   "file_extension": ".py",
   "mimetype": "text/x-python",
   "name": "python",
   "nbconvert_exporter": "python",
   "pygments_lexer": "ipython3",
   "version": "3.8.5"
  }
 },
 "nbformat": 4,
 "nbformat_minor": 4
}