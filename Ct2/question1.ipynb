{
 "metadata": {
  "language_info": {
   "codemirror_mode": {
    "name": "ipython",
    "version": 3
   },
   "file_extension": ".py",
   "mimetype": "text/x-python",
   "name": "python",
   "nbconvert_exporter": "python",
   "pygments_lexer": "ipython3",
   "version": "3.8.5"
  },
  "orig_nbformat": 2,
  "kernelspec": {
   "name": "python3",
   "display_name": "Python 3.8.5 64-bit ('base': conda)",
   "metadata": {
    "interpreter": {
     "hash": "514c875f458a4eeecf57fff9a8f241a0d348fbc5534b67b68517d23698dc73f9"
    }
   }
  }
 },
 "nbformat": 4,
 "nbformat_minor": 2,
 "cells": [
  {
   "cell_type": "code",
   "execution_count": 3,
   "metadata": {},
   "outputs": [
    {
     "output_type": "stream",
     "name": "stdout",
     "text": [
      "('XXX', 5675, 23, 'female', '27-08-2001', 'B.E')\n('abc', 5677, 20, 'male', '20-04-2001', 'b.tech')\n('XXX', 5675, 23, 'female', '27-08-2001', 'B.E')\n('abc', 5677, 20, 'male', '20-04-2001', 'b.tech')\n('XXX', 5675, 23, 'female', '27-08-2001', 'B.E')\n('abc', 5677, 20, 'male', '20-04-2001', 'b.tech')\n('XXX', 5675, 23, 'female', '27-08-2001', 'B.E')\n('abc', 5677, 20, 'male', '20-04-2001', 'b.tech')\n('XXX', 5675, 23, 'female', '27-08-2001', 'B.E')\n('abc', 5677, 20, 'male', '20-04-2001', 'b.tech')\n"
     ]
    }
   ],
   "source": [
    "import sqlite3\n",
    "conn= sqlite3.connect('db.db')\n",
    "cursor=conn.cursor()\n",
    "cursor.execute(\"CREATE TABLE IF NOT EXISTS details(name TEXT,id int,age int,gender TEXT,dob TEXT,qualification TEXT)\")\n",
    "#cursor.execute(\"UPDATE details SET name='abc' age=20 gender='male' dob='20-04-2001' qualification='b.tech' where id=5677\")\n",
    "cursor.execute(\"INSERT INTO details values (?,?,?,?,?,?)\",('XXX',5675,23,'female','27-08-2001','B.E'))\n",
    "cursor.execute(\"INSERT INTO details values (?,?,?,?,?,?)\",('yyyy',5677,24,'male','23-09-2001','B.E'))\n",
    "cursor.execute(\"UPDATE details SET name='abc',age=20,gender='male',dob='20-04-2001',qualification='b.tech' where id=5677\")\n",
    "conn.commit()\n",
    "cursor=conn.execute(\"SELECT * FROM details\")\n",
    "for row in cursor:\n",
    "    print(row)\n",
    "conn.close()"
   ]
  },
  {
   "cell_type": "code",
   "execution_count": null,
   "metadata": {},
   "outputs": [],
   "source": []
  }
 ]
}