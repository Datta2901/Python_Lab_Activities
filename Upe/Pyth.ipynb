{
 "metadata": {
  "language_info": {
   "codemirror_mode": {
    "name": "ipython",
    "version": 3
   },
   "file_extension": ".py",
   "mimetype": "text/x-python",
   "name": "python",
   "nbconvert_exporter": "python",
   "pygments_lexer": "ipython3",
   "version": "3.8.5"
  },
  "orig_nbformat": 2,
  "kernelspec": {
   "name": "python385jvsc74a57bd0514c875f458a4eeecf57fff9a8f241a0d348fbc5534b67b68517d23698dc73f9",
   "display_name": "Python 3.8.5 64-bit ('base': conda)"
  }
 },
 "nbformat": 4,
 "nbformat_minor": 2,
 "cells": [
  {
   "cell_type": "code",
   "execution_count": 3,
   "metadata": {},
   "outputs": [
    {
     "output_type": "stream",
     "name": "stdout",
     "text": [
      "So required hypotenuse is 5\n"
     ]
    }
   ],
   "source": [
    "# Incremental model : the work should be divided into many increments\n",
    "# we know that by pythagoreas therom  hyp**2 = side ** 2 + side ** 2\n",
    "# So this should be do in increments\n",
    "\n",
    "def square(a):\n",
    "    return a ** 2\n",
    "\n",
    "def add(a,b):\n",
    "    return a + b\n",
    "\n",
    "def root(a):\n",
    "    return int(a ** 0.5)\n",
    "\n",
    "def Answer(a,b):\n",
    "    return root(add(square(a),square(b)))\n",
    "\n",
    "a = int(input())\n",
    "b = int(input())\n",
    "c = Answer(a,b)\n",
    "print(\"So required hypotenuse is \" + str(c))\n"
   ]
  },
  {
   "cell_type": "code",
   "execution_count": 5,
   "metadata": {},
   "outputs": [
    {
     "output_type": "stream",
     "name": "stdout",
     "text": [
      "Customer  1\n",
      "Bill ID BCus_00, 1\n",
      "Customer ID:  5\n",
      "Units Consumed :  1\n",
      "Amount Paid: NO\n",
      "Customer  2\n",
      "Bill ID BCus_00, 2\n",
      "Customer ID:  2\n",
      "Units Consumed :  2\n",
      "Amount Paid: NO\n",
      "Customer  3\n",
      "Bill ID BCus_00, 3\n",
      "Customer ID:  2\n",
      "Units Consumed :  2\n",
      "Amount Paid: NO\n",
      "Customer  4\n",
      "Bill ID BCus_00, 4\n",
      "Customer ID:  2\n",
      "Units Consumed :  2\n",
      "Amount Paid: NO\n",
      "Customer  5\n"
     ]
    },
    {
     "output_type": "error",
     "ename": "ValueError",
     "evalue": "invalid literal for int() with base 10: ''",
     "traceback": [
      "\u001b[1;31m---------------------------------------------------------------------------\u001b[0m",
      "\u001b[1;31mValueError\u001b[0m                                Traceback (most recent call last)",
      "\u001b[1;32m<ipython-input-5-d16f7c171bc7>\u001b[0m in \u001b[0;36m<module>\u001b[1;34m\u001b[0m\n\u001b[0;32m      5\u001b[0m     \u001b[0mcustomerID\u001b[0m \u001b[1;33m=\u001b[0m \u001b[0mint\u001b[0m\u001b[1;33m(\u001b[0m\u001b[0minput\u001b[0m \u001b[1;33m(\u001b[0m\u001b[1;34m\"Enter Customer ID\"\u001b[0m\u001b[1;33m)\u001b[0m\u001b[1;33m)\u001b[0m\u001b[1;33m\u001b[0m\u001b[1;33m\u001b[0m\u001b[0m\n\u001b[0;32m      6\u001b[0m     \u001b[0mcustomerName\u001b[0m \u001b[1;33m=\u001b[0m \u001b[0minput\u001b[0m \u001b[1;33m(\u001b[0m\u001b[1;34m\"Enter Customer Name \"\u001b[0m\u001b[1;33m)\u001b[0m\u001b[1;33m\u001b[0m\u001b[1;33m\u001b[0m\u001b[0m\n\u001b[1;32m----> 7\u001b[1;33m     \u001b[0munits\u001b[0m \u001b[1;33m=\u001b[0m  \u001b[0mint\u001b[0m\u001b[1;33m(\u001b[0m\u001b[0minput\u001b[0m \u001b[1;33m(\u001b[0m\u001b[1;34m\"Enter Units Consumed \"\u001b[0m\u001b[1;33m)\u001b[0m\u001b[1;33m)\u001b[0m\u001b[1;33m\u001b[0m\u001b[1;33m\u001b[0m\u001b[0m\n\u001b[0m\u001b[0;32m      8\u001b[0m     \u001b[0mdate\u001b[0m \u001b[1;33m=\u001b[0m  \u001b[0minput\u001b[0m \u001b[1;33m(\u001b[0m\u001b[1;34m\"Enter Date of Payment \"\u001b[0m\u001b[1;33m)\u001b[0m\u001b[1;33m\u001b[0m\u001b[1;33m\u001b[0m\u001b[0m\n\u001b[0;32m      9\u001b[0m     \u001b[0mamountPaid\u001b[0m \u001b[1;33m=\u001b[0m \u001b[0minput\u001b[0m \u001b[1;33m(\u001b[0m\u001b[1;34m\"Amount Paid (YES/NO) \"\u001b[0m\u001b[1;33m)\u001b[0m\u001b[1;33m\u001b[0m\u001b[1;33m\u001b[0m\u001b[0m\n",
      "\u001b[1;31mValueError\u001b[0m: invalid literal for int() with base 10: ''"
     ]
    }
   ],
   "source": [
    "n = 1\n",
    "\n",
    "while n <= 5:\n",
    "    print(\"Customer \", n)\n",
    "    customerID = int(input (\"Enter Customer ID\"))\n",
    "    customerName = input (\"Enter Customer Name \")\n",
    "    units =  int(input (\"Enter Units Consumed \")) \n",
    "    date =  input (\"Enter Date of Payment \")\n",
    "    amountPaid = input (\"Amount Paid (YES/NO) \")\n",
    "\n",
    "    print(\"Bill ID BCus_00,\",n)\n",
    "    print(\"Customer ID: \", customerID)\n",
    "    print(\"Units Consumed : \", units) \n",
    "    if amountPaid == 'YES': \n",
    "        print(\"Amount Paid: \", amountPaid) \n",
    "        print(\"Date of Payment: \", date)\n",
    "    else:\n",
    "        print(\"Amount Paid: NO\")\n",
    "        n+= 1"
   ]
  },
  {
   "cell_type": "code",
   "execution_count": 6,
   "metadata": {},
   "outputs": [],
   "source": [
    "import tkinter as tk\n",
    "\n",
    "root = tk.Tk()\n",
    "root.geometry('300x300')\n",
    "c = tk.Canvas(root, height = 300, width = 300, bg = 'yellow')\n",
    "arc = c.create_arc(10,30,240,210, extent = 270, fill='red')\n",
    "arc2 = c.create_arc(10,30,240,210, start = 270,extent = 60, fill='blue')\n",
    "arc3 = c.create_arc(10,30,240,210, start = 0,extent = -30, fill='green')\n",
    "c.pack()\n",
    "root.mainloop()"
   ]
  },
  {
   "cell_type": "code",
   "execution_count": null,
   "metadata": {},
   "outputs": [],
   "source": []
  }
 ]
}