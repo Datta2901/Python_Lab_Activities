{
 "metadata": {
  "language_info": {
   "codemirror_mode": {
    "name": "ipython",
    "version": 3
   },
   "file_extension": ".py",
   "mimetype": "text/x-python",
   "name": "python",
   "nbconvert_exporter": "python",
   "pygments_lexer": "ipython3",
   "version": "3.8.5"
  },
  "orig_nbformat": 2,
  "kernelspec": {
   "name": "python3",
   "display_name": "Python 3",
   "language": "python"
  }
 },
 "nbformat": 4,
 "nbformat_minor": 2,
 "cells": [
  {
   "cell_type": "code",
   "execution_count": null,
   "metadata": {},
   "outputs": [],
   "source": [
    "from turtle import *\n",
    "forward(100)\n",
    "left(90)\n",
    "forward(100)\n",
    "left(90)\n",
    "forward(100)\n",
    "left(90)\n",
    "forward(100)\n",
    "# simple basic program"
   ]
  },
  {
   "cell_type": "code",
   "execution_count": null,
   "metadata": {},
   "outputs": [],
   "source": [
    "from turtle import *\n",
    "color('red', 'yellow')\n",
    "begin_fill()\n",
    "while True:\n",
    "    forward(200)\n",
    "    left(170)\n",
    "    if abs(pos()) < 1:\n",
    "        break\n",
    "end_fill()\n",
    "done()\n",
    "\n",
    "# SImple program to draw a shape\n"
   ]
  },
  {
   "cell_type": "code",
   "execution_count": null,
   "metadata": {},
   "outputs": [],
   "source": [
    "import turtle\n",
    "turtle.setup(400,500,10,20)    # Determine the window size\n",
    "wn = turtle.Screen()     # Get a reference to the window\n",
    "wn.title(\"Handling keypresses!\")     # Change the window title\n",
    "wn.bgcolor(\"lightgreen\") # Set the background color\n",
    "tess = turtle.Turtle()   # Create our favorite turtle\n",
    "# The next four functions are our \"event handlers\".\n",
    "def h1():\n",
    "   tess.forward(30)\n",
    "def h2():\n",
    "   tess.left(45)\n",
    "def h3():\n",
    "   tess.right(45)\n",
    "def h4():\n",
    "    wn.bye()      # Close down the turtle window\n",
    "# These lines \"wire up\" keypresses to the handlers we've defined.\n",
    "wn.onkey(h1, \"Up\")\n",
    "wn.onkey(h2, \"Left\")\n",
    "wn.onkey(h3, \"Right\")\n",
    "wn.onkey(h4, \"q\")\n",
    "# Now we need to tell the window to start listening for events,\n",
    "# If any of the keys that we're monitoring is pressed, its\n",
    "# handler will be called.\n",
    "wn.listen()\n",
    "wn.mainloop()\n",
    "\n"
   ]
  },
  {
   "cell_type": "code",
   "execution_count": null,
   "metadata": {},
   "outputs": [],
   "source": [
    "import turtle\n",
    "\n",
    "turtle.setup(400,500,10,20)        # Determine the window size\n",
    "wn = turtle.Screen()               # Get a reference to the window\n",
    "wn.title(\"Handling mouse clicks!\") # Change the window title\n",
    "wn.bgcolor(\"lightgreen\")           # Set the background color\n",
    "tess = turtle.Turtle()             # Create two turtles\n",
    "tess.color(\"purple\")\n",
    "alex = turtle.Turtle()             # Move them apart\n",
    "alex.color(\"blue\")\n",
    "alex.forward(100)\n",
    "\n",
    "def handler_for_tess(x, y):\n",
    "    wn.title(\"Tess clicked at {0}, {1}\".format(x, y))\n",
    "    tess.left(42)\n",
    "    tess.forward(30)\n",
    "def handler_for_alex(x, y):\n",
    "    wn.title(\"Alex clicked at {0}, {1}\".format(x, y))\n",
    "    alex.right(84)\n",
    "    alex.forward(50)\n",
    "\n",
    "tess.onclick(handler_for_tess)\n",
    "alex.onclick(handler_for_alex)\n",
    "\n",
    "wn.mainloop()\n",
    "\n"
   ]
  },
  {
   "cell_type": "code",
   "execution_count": null,
   "metadata": {},
   "outputs": [],
   "source": [
    "import turtle\n",
    "turtle.setup(400,500)\n",
    "wn = turtle.Screen()\n",
    "wn.title(\"Using a timer to get events!\")\n",
    "wn.bgcolor(\"lightgreen\")\n",
    "\n",
    "tess = turtle.Turtle()\n",
    "tess.color(\"purple\")\n",
    "\n",
    "def h1():\n",
    "    tess.forward(100)\n",
    "    tess.left(56)\n",
    "    wn.ontimer(h1, 60)\n",
    "\n",
    "h1()\n",
    "wn.mainloop()\n"
   ]
  },
  {
   "cell_type": "code",
   "execution_count": null,
   "metadata": {},
   "outputs": [],
   "source": []
  }
 ]
}