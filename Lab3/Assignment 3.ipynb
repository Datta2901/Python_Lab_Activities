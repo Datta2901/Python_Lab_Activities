{
 "cells": [
  {
   "cell_type": "markdown",
   "metadata": {},
   "source": [
    "1.Write a Python class to find the two elements that sum to zero from a set of n real numbers. Go to the editor"
   ]
  },
  {
   "cell_type": "code",
   "execution_count": 1,
   "metadata": {},
   "outputs": [
    {
     "name": "stdout",
     "output_type": "stream",
     "text": [
      "Enter the size of the array : 6\n",
      "Enter the elements \n",
      "10\n",
      "-10\n",
      "5\n",
      "-5\n",
      "6\n",
      "9\n",
      "(-10, 10) (-5, 5)  \n"
     ]
    }
   ],
   "source": [
    "size = int(input(\"Enter the size of the array : \"))\n",
    "numbers = []\n",
    "freq = {}\n",
    "print(\"Enter the elements \")\n",
    "for i in range(0,size):\n",
    "    ele = int(input())\n",
    "    if (ele) in freq:\n",
    "        freq[ele] = freq[ele] + 1\n",
    "    else:\n",
    "        freq[ele] = 1    \n",
    "for value,key in freq.items():\n",
    "    if((-value) in freq and freq[-value] > 0):\n",
    "        print((-value,value),end = ' ')\n",
    "        freq[-value] -= 1\n",
    "        freq[value] -= 1\n",
    "print(\" \")            \n",
    "\n",
    "\n",
    "\n",
    "\n",
    "    \n",
    "    \n",
    "\n"
   ]
  },
  {
   "cell_type": "markdown",
   "metadata": {},
   "source": [
    "2.Write a Python class which has two funtions get_Str and print_Str. get_Str accept a string from the user and print_Str print the string in upper case and lower case."
   ]
  },
  {
   "cell_type": "code",
   "execution_count": 2,
   "metadata": {},
   "outputs": [
    {
     "name": "stdout",
     "output_type": "stream",
     "text": [
      "Enter the name : Advance Programming Practice\n",
      "Given string is  Advance Programming Practice\n",
      "String in lowercase :  advance programming practice\n",
      "String in upercase :  ADVANCE PROGRAMMING PRACTICE\n"
     ]
    }
   ],
   "source": [
    "class Details:\n",
    "    name = \" \"\n",
    "    def get_string(self):\n",
    "        self.name = input(\"Enter the name : \")\n",
    "    def print_string(self,name):\n",
    "        print(\"Given string is \",self.name)\n",
    "        print(\"String in lowercase : \",self.name.lower())         \n",
    "        print(\"String in upercase : \",self.name.upper())\n",
    "\n",
    "obj = Details()\n",
    "obj.get_string()\n",
    "obj.print_string(obj.name)                 "
   ]
  },
  {
   "cell_type": "markdown",
   "metadata": {},
   "source": [
    "3.Write a Python class named rectangle constructed by a length, breadth, and two methods which will compute the area and the perimeter of a rectangle.\n"
   ]
  },
  {
   "cell_type": "code",
   "execution_count": 7,
   "metadata": {},
   "outputs": [
    {
     "name": "stdout",
     "output_type": "stream",
     "text": [
      "Enter the length of the rectangle : 100\n",
      "Enter the breadth of the rectangle : 20\n",
      "Perimeter of the rectangle is : 240\n",
      "Area of the rectangle: 2000\n"
     ]
    }
   ],
   "source": [
    "class rectangle:\n",
    "    length = 0\n",
    "    breadth = 0\n",
    "    def GetDimensions(self):\n",
    "        self.length = int(input(\"Enter the length of the rectangle : \"))\n",
    "        self.breadth = int(input(\"Enter the breadth of the rectangle : \"))\n",
    "    def Perimeter(self):\n",
    "        print(\"Perimeter of the rectangle is : \" + str(2 * (self.length + self.breadth)))\n",
    "    def Area(self):\n",
    "        print(\"Area of the rectangle: \"+ str(self.length * self.breadth))   \n",
    "\n",
    "obj = rectangle()\n",
    "obj.GetDimensions()\n",
    "obj.Perimeter()\n",
    "obj.Area()        \n"
   ]
  },
  {
   "cell_type": "markdown",
   "metadata": {},
   "source": [
    "4.A vehicle class consist of vehicle data and standard methods to manipulate vehicle data. Write a Python child class Bus that will inherit all of the variables and methods of the Vehicle class. display in the output."
   ]
  },
  {
   "cell_type": "code",
   "execution_count": 8,
   "metadata": {},
   "outputs": [
    {
     "name": "stdout",
     "output_type": "stream",
     "text": [
      "Printing from vehicle class Luxary\n",
      "Printing from vehicle class 12345\n"
     ]
    }
   ],
   "source": [
    "class Vehicle:\n",
    "    def __init__(self,type,number):\n",
    "        self.type = type\n",
    "        self.number = number\n",
    "    def PrintDetails(self):\n",
    "        print(\"Printing from vehicle class \"+ self.type)\n",
    "        print(\"Printing from vehicle class \"+ self.number)\n",
    "\n",
    "class Bus(Vehicle):\n",
    "    pass\n",
    "\n",
    "obj1 = Bus(\"Luxary\",\"12345\")\n",
    "obj1.PrintDetails()"
   ]
  },
  {
   "cell_type": "markdown",
   "metadata": {},
   "source": [
    "5. Friend of two are jointly planning for the startups, during month one their discussion was about the, \"1. Infrastructure of the work area\", \"2. Capital and funding\" and \"3. Human resources\". Three months later they started implementing. Represent this concept by using Abstract class."
   ]
  },
  {
   "cell_type": "code",
   "execution_count": 9,
   "metadata": {},
   "outputs": [
    {
     "name": "stdout",
     "output_type": "stream",
     "text": [
      "__________\n",
      "INFRASTRUCTURE ON WORK AREA\n",
      "1.Commnunication networks\n",
      "2.Electric system\n",
      "3.Cost investment\n",
      " \n",
      "__________\n",
      "CAPITAL AND FUNDING\n",
      "l.Equity\n",
      "2.Debt\n",
      " \n",
      "__________\n",
      "HUMAN RESOURCE\n",
      "l.Recruitment\n",
      " \n"
     ]
    }
   ],
   "source": [
    "from abc import ABC, abstractmethod\n",
    "class Startup(ABC):\n",
    "    def Ideas(self):\n",
    "        print(\"__________\")\n",
    "class Infra(Startup):\n",
    "    def Ideas(self):\n",
    "        super().Ideas()\n",
    "        print(\"INFRASTRUCTURE ON WORK AREA\")\n",
    "        print(\"1.Commnunication networks\")\n",
    "        print(\"2.Electric system\")\n",
    "        print(\"3.Cost investment\")\n",
    "        print(\" \")\n",
    "class Fund(Startup):\n",
    "    def Ideas(Self):\n",
    "        super().Ideas()\n",
    "        print(\"CAPITAL AND FUNDING\")\n",
    "        print(\"l.Equity\")\n",
    "        print(\"2.Debt\")\n",
    "        print(\" \")\n",
    "class Resource(Startup):\n",
    "    def Ideas(Self):\n",
    "        super().Ideas()\n",
    "        print(\"HUMAN RESOURCE\")\n",
    "        print(\"l.Recruitment\")\n",
    "        print(\" \")\n",
    "x = Infra()\n",
    "x. Ideas()\n",
    "y = Fund()\n",
    "y. Ideas()\n",
    "z = Resource()\n",
    "z. Ideas()\n"
   ]
  },
  {
   "cell_type": "code",
   "execution_count": null,
   "metadata": {},
   "outputs": [],
   "source": []
  }
 ],
 "metadata": {
  "kernelspec": {
   "display_name": "Python 3",
   "language": "python",
   "name": "python3"
  },
  "language_info": {
   "codemirror_mode": {
    "name": "ipython",
    "version": 3
   },
   "file_extension": ".py",
   "mimetype": "text/x-python",
   "name": "python",
   "nbconvert_exporter": "python",
   "pygments_lexer": "ipython3",
   "version": "3.8.5"
  }
 },
 "nbformat": 4,
 "nbformat_minor": 4
}
