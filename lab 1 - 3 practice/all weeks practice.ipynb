{
 "cells": [
  {
   "cell_type": "markdown",
   "metadata": {},
   "source": [
    "#1. Develop a Python Application to get the number of units consumed of 5 users.\n",
    "The charges are given below and compute the total amount to be paid by the user. \n",
    "\n",
    "Unit \tCharge/Unit\n",
    "Upto 199\t@1.20\n",
    "200 and above but less than 400\t@1.50\n",
    "400 and above but less than 600\t@1.80\n",
    "600 and above\t@2.00\n",
    "If bill exceeds 400 then surcharge of 15% will be charged and the minimum bill should be Rs.100"
   ]
  },
  {
   "cell_type": "code",
   "execution_count": 16,
   "metadata": {},
   "outputs": [
    {
     "name": "stdout",
     "output_type": "stream",
     "text": [
      "\n",
      "Bill for user  0 \n",
      "\n",
      "Enter Units Consumed = 100\n",
      "Customer ID = 123\n",
      "Customer Name = manik\n",
      "Month of billing = jan\n",
      "bill = 120.0  rupees\n",
      "\n",
      "bill =  120.0  rupees\n",
      "\n",
      "bill =  138.0  rupees \n",
      "\n",
      "\n",
      "Bill for user  1 \n",
      "\n",
      "Enter Units Consumed = 91\n",
      "Customer ID = 12345\n",
      "Customer Name = abcd\n",
      "Month of billing = feb\n",
      "bill = 109.2  rupees\n",
      "\n",
      "bill =  109.2  rupees\n",
      "\n",
      "bill =  125.58  rupees \n",
      "\n",
      "\n",
      "Bill for user  2 \n",
      "\n",
      "Enter Units Consumed = 1000\n",
      "Customer ID = 123456\n",
      "Customer Name = bbbbbb\n",
      "Month of billing = march\n",
      "bill = 100 rupees \n",
      "\n",
      "bill =  0  rupees\n",
      "\n",
      "bill =  1955.9199999999998  rupees \n",
      "\n",
      "\n",
      "Bill for user  3 \n",
      "\n",
      "Enter Units Consumed = 250\n",
      "Customer ID = 12345678\n",
      "Customer Name = name\n",
      "Month of billing = april\n",
      "bill = 100 rupees \n",
      "\n",
      "bill =  315.0  rupees\n",
      "\n",
      "bill =  362.25  rupees \n",
      "\n",
      "\n",
      "Bill for user  4 \n",
      "\n",
      "Enter Units Consumed = 999\n",
      "Customer ID = dddd\n",
      "Customer Name = pavan\n",
      "Month of billing = april\n",
      "bill = 100 rupees \n",
      "\n",
      "bill =  0  rupees\n",
      "\n",
      "bill =  1953.62  rupees \n",
      "\n"
     ]
    }
   ],
   "source": [
    "def units():\n",
    "    x0033=int(input(\"Enter Units Consumed = \"))\n",
    "    return x0033;\n",
    "def details():\n",
    "    custID=input(\"Customer ID = \")\n",
    "    custName=input(\"Customer Name = \")\n",
    "    monthName=input(\"Month of billing = \")\n",
    "    return ;\n",
    "def calc():\n",
    "    x0033=units()\n",
    "    details()\n",
    "    y0033 = 0\n",
    "    if x0033<=199:\n",
    "        y0033=x0033*1.2\n",
    "    if(y0033<100):\n",
    "        print(\"bill = 100 rupees \\n\" )\n",
    "    else:\n",
    "        print(\"bill =\", y0033 ,\" rupees\\n\")\n",
    "    if x0033>199 and x0033<400:\n",
    "        y0033=200*1.2 + (x0033-200)*1.5\n",
    "    if(y0033>400):\n",
    "        print(\"bill = \", y0033+0.15*y0033, \" rupees\\n\")\n",
    "    else:\n",
    "        print(\"bill = \", y0033, \" rupees\\n\")\n",
    "    if x0033>=400 and x0033<600 :\n",
    "        y0033=199*1.2 + 200*1.5 + (x0033-399)*1.8\n",
    "        print(\"bill =\", y0033+0.15*y0033, \" rupees \\n\")\n",
    "    if x0033>250 :\n",
    "        y0033=199*1.2 + 200*1.5 + 200*1.8 + (x0033-599)*2\n",
    "    print(\"bill = \", y0033+0.15*y0033, \" rupees \\n\")\n",
    "i=0\n",
    "for i in range(5):\n",
    "    print(\"\\nBill for user \", i ,\"\\n\")\n",
    "    calc()"
   ]
  },
  {
   "cell_type": "markdown",
   "metadata": {},
   "source": [
    "To find the cube of a number"
   ]
  },
  {
   "cell_type": "code",
   "execution_count": 14,
   "metadata": {},
   "outputs": [
    {
     "name": "stdout",
     "output_type": "stream",
     "text": [
      "The cube of 5 using def function: 125 \n",
      "The cube of 9 using lambda:  729\n"
     ]
    }
   ],
   "source": [
    "def cube(n0033):\n",
    "    return n0033*n0033*n0033\n",
    "ans0033=lambda n0033:n0033*n0033*n0033\n",
    " \n",
    "print(\"The cube of 5 using def function:\",cube(5),\"\\nThe cube of 9 using lambda: \",ans0033(9))"
   ]
  },
  {
   "cell_type": "markdown",
   "metadata": {},
   "source": [
    "Given two lists. In first  list we have to convert the numbers from celsius to fahreheit.In second list we have to convert from fahrenheit to celcius"
   ]
  },
  {
   "cell_type": "code",
   "execution_count": 13,
   "metadata": {},
   "outputs": [
    {
     "name": "stdout",
     "output_type": "stream",
     "text": [
      "The celsius temperatures are: \n",
      " [21, 34, 12, 14, 15]\n",
      "the converted fahreheit temperatures are: \n",
      " [69.80000000000001, 93.2, 53.6, 57.2, 59.0]\n",
      "The fahrenheit temperatures are: \n",
      " [90, 79, 60, 89, 99]\n",
      "the converted celsius temperatures are: \n",
      " [32.22222222222222, 26.11111111111111, 15.555555555555557, 31.666666666666668, 37.22222222222222]\n"
     ]
    }
   ],
   "source": [
    "def to_f0033(c0033):\n",
    "    f0033=0\n",
    "    f0033=c0033*1.800+32\n",
    "    return f0033\n",
    "def to_c0033(f0033):\n",
    "    c0033=0\n",
    "    c0033=(5/9)*(f0033-32)\n",
    "    return c0033\n",
    "lst10033=[21,34,12,14,15]\n",
    " \n",
    "lst30033=[90,79,60,89,99]\n",
    "print(\"The celsius temperatures are: \\n\",lst10033)\n",
    "lst20033=list(map(to_f0033,lst10033))\n",
    "print(\"the converted fahreheit temperatures are: \\n\",lst20033)\n",
    " \n",
    "print(\"The fahrenheit temperatures are: \\n\",lst30033)\n",
    "lst40033=list(map(to_c0033,lst30033))\n",
    "print(\"the converted celsius temperatures are: \\n\",lst40033)"
   ]
  },
  {
   "cell_type": "markdown",
   "metadata": {},
   "source": [
    "Given a number n we have to print the even numbers in the series and then odd numbers"
   ]
  },
  {
   "cell_type": "code",
   "execution_count": 12,
   "metadata": {},
   "outputs": [
    {
     "name": "stdout",
     "output_type": "stream",
     "text": [
      "enter the range of series: 11\n",
      "The fibonacci series are : \n",
      "[0, 1, 1, 2, 3, 5, 8, 13, 21, 34, 55]\n",
      "\n",
      "The even numbers of the given range of fibonacci series are :  [0, 2, 8, 34]\n",
      "\n",
      "The odd numbers of the given range of fibonacci series are :  [1, 1, 3, 5, 13, 21, 55]\n"
     ]
    }
   ],
   "source": [
    "def fibonacci(n0033):\n",
    "    if n0033<=1:\n",
    "        return n0033\n",
    "    else:\n",
    "        return (fibonacci(n0033-1) + fibonacci(n0033-2))\n",
    "      \n",
    "n0033=int(input(\"enter the range of series: \"))\n",
    "print(\"The fibonacci series are : \")\n",
    "list10033=[]\n",
    "for i in range(n0033):\n",
    "    #print(fibonacci(i))\n",
    "    list10033.insert(i,fibonacci(i))\n",
    "print(list10033)\n",
    "list20033=list(filter(lambda a:a%2!=0,list10033))\n",
    "list30033=list(filter(lambda a:a%2==0,list10033))\n",
    "print(\"\\nThe even numbers of the given range of fibonacci series are : \",list30033)\n",
    "print(\"\\nThe odd numbers of the given range of fibonacci series are : \",list20033)\n",
    " "
   ]
  },
  {
   "cell_type": "markdown",
   "metadata": {},
   "source": [
    "To find the numbers from 1 to n^2 and skip the multiples of 5"
   ]
  },
  {
   "cell_type": "code",
   "execution_count": 4,
   "metadata": {},
   "outputs": [
    {
     "name": "stdout",
     "output_type": "stream",
     "text": [
      "10\n",
      "1\n",
      "2\n",
      "3\n",
      "4\n",
      "6\n",
      "7\n",
      "8\n",
      "9\n",
      "11\n",
      "12\n",
      "13\n",
      "14\n",
      "16\n",
      "17\n",
      "18\n",
      "19\n",
      "21\n",
      "22\n",
      "23\n",
      "24\n",
      "26\n",
      "27\n",
      "28\n",
      "29\n",
      "31\n",
      "32\n",
      "33\n",
      "34\n",
      "36\n",
      "37\n",
      "38\n",
      "39\n",
      "41\n",
      "42\n",
      "43\n",
      "44\n",
      "46\n",
      "47\n",
      "48\n",
      "49\n",
      "51\n",
      "52\n",
      "53\n",
      "54\n",
      "56\n",
      "57\n",
      "58\n",
      "59\n",
      "61\n",
      "62\n",
      "63\n",
      "64\n",
      "66\n",
      "67\n",
      "68\n",
      "69\n",
      "71\n",
      "72\n",
      "73\n",
      "74\n",
      "76\n",
      "77\n",
      "78\n",
      "79\n",
      "81\n",
      "82\n",
      "83\n",
      "84\n",
      "86\n",
      "87\n",
      "88\n",
      "89\n",
      "91\n",
      "92\n",
      "93\n",
      "94\n",
      "96\n",
      "97\n",
      "98\n",
      "99\n"
     ]
    }
   ],
   "source": [
    "n0033=(int)(input())\n",
    "i0033=1\n",
    "for i0033 in range(n0033*n0033):\n",
    "    if i0033%5==0:\n",
    "        continue\n",
    "    print(i0033)"
   ]
  },
  {
   "cell_type": "markdown",
   "metadata": {},
   "source": [
    "To find sum of the digits of a given number"
   ]
  },
  {
   "cell_type": "code",
   "execution_count": 11,
   "metadata": {},
   "outputs": [
    {
     "name": "stdout",
     "output_type": "stream",
     "text": [
      "Enter a number: 22201\n",
      "Sum of digits:  7"
     ]
    }
   ],
   "source": [
    "n0033=(int)(input(\"Enter a number: \"))\n",
    "t0033=n0033\n",
    "s0033=0\n",
    "while t0033!=0:\n",
    "    r=t0033%10\n",
    "    s0033=s0033+r\n",
    "    t0033=(int)(t0033/10)\n",
    "print(\"Sum of digits: \",s0033,end=\"\")"
   ]
  },
  {
   "cell_type": "markdown",
   "metadata": {},
   "source": [
    "1: Suppose the cover price of a book is 24.95 dollars , but bookstores get a\n",
    "40% discount. Shipping costs 3\n",
    "dollars for the first copy and 75 cents for each additional copy. What is the\n",
    "total wholesale cost for 60 copies?"
   ]
  },
  {
   "cell_type": "code",
   "execution_count": 3,
   "metadata": {},
   "outputs": [
    {
     "name": "stdout",
     "output_type": "stream",
     "text": [
      "945.4499999999999\n"
     ]
    }
   ],
   "source": [
    "cost_0033=(24.95*60)\n",
    "dis_0033=cost_0033*0.4\n",
    "tot_0033=cost_0033-dis_0033+3+(59*0.75)\n",
    "print(tot_0033)"
   ]
  },
  {
   "cell_type": "markdown",
   "metadata": {},
   "source": [
    "2: Hourly workers typically earn overtime when they work more then 40 hours per\n",
    "week. For example, overtime\n",
    "pay might be 150% of the regular salary for the additional hours. Write a\n",
    "Python program that will ask the user\n",
    "for their hourly wage, then for the hours they have worked in the past week.\n",
    "With these two values print the\n",
    "wages earned for the week."
   ]
  },
  {
   "cell_type": "code",
   "execution_count": 10,
   "metadata": {},
   "outputs": [
    {
     "name": "stdout",
     "output_type": "stream",
     "text": [
      "Wages per month:100\n",
      "Number of hours worked in a month: 200\n",
      "24000.0\n",
      "the total28000.0\n"
     ]
    }
   ],
   "source": [
    "wage_0033=float(input('Wages per month:'))\n",
    "hour_0033=int(input('Number of hours worked in a month: '))\n",
    "payot_0033=0\n",
    "if(hour_0033>40):\n",
    "    overtime_0033=hour_0033-40\n",
    "    payot_0033=overtime_0033*(1.5*wage_0033)\n",
    "    tot_sal_0033=payot_0033+(wage_0033*40)\n",
    "print(payot_0033)\n",
    "print(\"the total\"+str(tot_sal_0033))"
   ]
  },
  {
   "cell_type": "markdown",
   "metadata": {},
   "source": [
    "To print whether given number is pythogoreas triplet  or not"
   ]
  },
  {
   "cell_type": "code",
   "execution_count": 9,
   "metadata": {},
   "outputs": [
    {
     "name": "stdout",
     "output_type": "stream",
     "text": [
      "2\n",
      "3\n",
      "5\n",
      "THEY ARE not PYTHAGOREAN TRIPLET\n"
     ]
    }
   ],
   "source": [
    "a0032=int(input())\n",
    "b0032=int(input())\n",
    "c0032=int(input())\n",
    "if(a0032 ** 2 + b0032 ** 2 == c0032** 2):\n",
    "    print(\"THEY ARE PYTHAGOREAN TRIPLET\")\n",
    "else:\n",
    "    print(\"THEY ARE not PYTHAGOREAN TRIPLET\")"
   ]
  },
  {
   "cell_type": "markdown",
   "metadata": {},
   "source": [
    "You hare given with two strings s1,s2.Write a python program to fing two strings are anagram or not"
   ]
  },
  {
   "cell_type": "code",
   "execution_count": 8,
   "metadata": {},
   "outputs": [
    {
     "name": "stdout",
     "output_type": "stream",
     "text": [
      "\n",
      "Enter the first string = datta\n",
      "\n",
      "Enter the second string = attad\n",
      "\n",
      "The two strings are anagram of each other\n"
     ]
    }
   ],
   "source": [
    "def areAnagram(str10033,str20033):\n",
    "    n10033 = len(str10033)\n",
    "    n20033 = len(str20033)\n",
    "    if n10033 != n20033:\n",
    "        return 0\n",
    "    str10033 = sorted(str10033)\n",
    "    str20033 = sorted(str20033)\n",
    "    for i in range(0, n10033):\n",
    "        if str10033[i] != str20033[i]:\n",
    "            return 0\n",
    "    return 1\n",
    "str10033=input(\"\\nEnter the first string = \")\n",
    "str20033=input(\"\\nEnter the second string = \")\n",
    "if areAnagram(str10033, str20033):\n",
    "    print(\"\\nThe two strings are anagram of each other\")\n",
    "else:\n",
    "    print(\"\\nThe two strings are not anagram of each other\")"
   ]
  },
  {
   "cell_type": "code",
   "execution_count": null,
   "metadata": {},
   "outputs": [],
   "source": []
  }
 ],
 "metadata": {
  "kernelspec": {
   "display_name": "Python 3",
   "language": "python",
   "name": "python3"
  },
  "language_info": {
   "codemirror_mode": {
    "name": "ipython",
    "version": 3
   },
   "file_extension": ".py",
   "mimetype": "text/x-python",
   "name": "python",
   "nbconvert_exporter": "python",
   "pygments_lexer": "ipython3",
   "version": "3.8.5"
  }
 },
 "nbformat": 4,
 "nbformat_minor": 4
}
