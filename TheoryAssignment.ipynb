{
 "metadata": {
  "language_info": {
   "codemirror_mode": {
    "name": "ipython",
    "version": 3
   },
   "file_extension": ".py",
   "mimetype": "text/x-python",
   "name": "python",
   "nbconvert_exporter": "python",
   "pygments_lexer": "ipython3",
   "version": "3.8.5"
  },
  "orig_nbformat": 2,
  "kernelspec": {
   "name": "python385jvsc74a57bd0514c875f458a4eeecf57fff9a8f241a0d348fbc5534b67b68517d23698dc73f9",
   "display_name": "Python 3.8.5 64-bit ('base': conda)"
  }
 },
 "nbformat": 4,
 "nbformat_minor": 2,
 "cells": [
  {
   "source": [
    "<center>\n",
    "    <h2>App Assignment </h2>\n",
    "</center>\n",
    "    <p align = \"right\">RA1911026010033</p>\n",
    "    <p align = \"right\">T.Manikanta</p>\n",
    "    <p align = \"right\">K1 Section</p>\n",
    "\n"
   ],
   "cell_type": "markdown",
   "metadata": {}
  },
  {
   "source": [
    "<h3>1. Illustrate the following Aggregate functions in PyDatalog in Python (Assume your own\n",
    "example).</h3>\n",
    "<p>a. Len </p>\n",
    "<p>b. Sum</p>\n",
    "<p>c. Min_max</p>\n",
    "<p>d. Tuple</p>\n",
    "<p>e. Rank</p>\n"
   ],
   "cell_type": "markdown",
   "metadata": {}
  },
  {
   "source": [],
   "cell_type": "markdown",
   "metadata": {}
  },
  {
   "source": [
    "<h3>Aggregate functions are special type of functions.According to given question we have 6 functions to be discussed in this : </h3>\n",
    "1. len_ : Len function which is used to count the number of results is ‘len_’\n",
    "<br>\n",
    "SYNTAX:\n",
    "(F[X]==len_(Y)) <= body\n",
    "<br>\n",
    "2. sum_ : \n",
    "<br>\n",
    "SYNTAX:\n",
    "(F(X)==sum_(Y, for_each=Z)) <= body\n",
    "<br>\n",
    "3. min_ : \n",
    "<br>\n",
    "SYNTAX:\n",
    "(F[X]==min_(Y, order_by=Z)) <= body\n",
    "<br>\n",
    "4. max_ : \n",
    "<br>\n",
    "Syntax:\n",
    "(F[X]==max_(Y, order_by=Z)) <= body\n",
    "<br>\n",
    "5. tuple_ :\n",
    "<br>\n",
    "SYNTAX:\n",
    "(P[X]==tuple_(Y, order_by=Z)) <= body\n",
    "<br>\n",
    "6. rank_ :\n",
    "<br>\n",
    "SYNTAX:\n",
    "\n",
    "(P[X]==rank_(group_by=Y, order_by=Z)) <= body"
   ],
   "cell_type": "markdown",
   "metadata": {}
  },
  {
   "source": [
    "Examples for each function as follows"
   ],
   "cell_type": "markdown",
   "metadata": {}
  },
  {
   "cell_type": "code",
   "execution_count": 1,
   "metadata": {},
   "outputs": [
    {
     "output_type": "stream",
     "name": "stdout",
     "text": [
      "Z\n-\n2\n"
     ]
    }
   ],
   "source": [
    "# Len\n",
    "from pyDatalog import pyDatalog\n",
    "pyDatalog.create_terms('X,Y,Z,A,marks,P')\n",
    "\n",
    "+(marks['Pavan'] == (46,46,46,46,46))\n",
    "+(marks['Sharan'] == (46,42,47,41,44))\n",
    "+(marks['Sabin'] == (44,48,45,42,43))\n",
    "+(marks['Ajay'] == (43,46,44,38,42))\n",
    "+(marks['Harsha'] == (44,46,48,39,47))\n",
    "\n",
    "(P[X]==len_(Y)) <= (marks[Y][0] >= X)\n",
    "\n",
    "print(P[45] == Z)"
   ]
  },
  {
   "cell_type": "code",
   "execution_count": 5,
   "metadata": {},
   "outputs": [
    {
     "output_type": "stream",
     "name": "stdout",
     "text": [
      "Name1     | F1 \n----------|----\nManikanta | 327\n"
     ]
    }
   ],
   "source": [
    "#sum\n",
    "from pyDatalog import pyDatalog\n",
    "pyDatalog.create_terms('marks, Subject1, Name1, Marks1,sum1,F1')\n",
    "+ (marks('subject1','Manikanta',43))\n",
    "+ (marks('subject2','Manikanta',49))\n",
    "+ (marks('subject3','Manikanta',90))\n",
    "+ (marks('subject4','Manikanta',48))\n",
    "+ (marks('subject5','Manikanta',50))\n",
    "+ (marks('subject6','Manikanta',47))\n",
    "\n",
    "\n",
    "#sum of all the marks of a student\n",
    "(sum1[Name1] == sum_(Marks1,for_each=Name1)) <= (marks(Subject1,Name1,Marks1))\n",
    "print((sum1[Name1] == F1))"
   ]
  },
  {
   "cell_type": "code",
   "execution_count": 6,
   "metadata": {},
   "outputs": [
    {
     "output_type": "stream",
     "name": "stdout",
     "text": [
      "Subject2 | F2    \n---------|-------\napp      | Harsha\nPqt      | pranav\n"
     ]
    }
   ],
   "source": [
    "# MinMax\n",
    "from pyDatalog import pyDatalog\n",
    "pyDatalog.create_terms('record2, Subject2, Name2, Marks2,lowest2,F2')\n",
    "+ (record2('Pqt','chaitanya',52))\n",
    "+ (record2('Pqt','pranav',50))\n",
    "+ (record2('Pqt','Karthik',51))\n",
    "+ (record2('app','Ajay',60))\n",
    "+ (record2('app','Harsha',29))\n",
    "+ (record2('app','Pavan',50))\n",
    "\n",
    "(lowest2[Subject2] == min_(Name2,order_by=Marks2)) <= (record2(Subject2,Name2,Marks2))\n",
    "print((lowest2[Subject2] == F2))"
   ]
  },
  {
   "cell_type": "code",
   "execution_count": 8,
   "metadata": {},
   "outputs": [
    {
     "output_type": "stream",
     "name": "stdout",
     "text": [
      "Subject3  | F3                                     \n----------|----------------------------------------\nPhysics   | ('Vaibhav', 'harsha', 'sabin', 'surya')\nDAA       | ('harsha', 'sabin', 'sharan')          \nChemistry | ('Datta', 'Pavan', 'harsha')           \n"
     ]
    }
   ],
   "source": [
    "# Tuple\n",
    "from pyDatalog import pyDatalog\n",
    "pyDatalog.create_terms('record, Subject3, Name3, Marks3,tup,F3')\n",
    "+ (record('Chemistry','Datta',49))\n",
    "+ (record('Chemistry','Pavan',44))\n",
    "+ (record('Chemistry','harsha',43))\n",
    "+ (record('Physics','sabin',48))\n",
    "+ (record('Physics','surya',44))\n",
    "+ (record('Physics','harsha',47))\n",
    "+ (record('DAA','sharan',44))\n",
    "+ (record('DAA','harsha',45))\n",
    "+ (record('DAA','sabin',48))\n",
    "\n",
    "#Grouping students per subjects\n",
    "(tup[Subject3] == tuple_(Name3,order_by=Name3)) <= (record(Subject3,Name3,Marks3))\n",
    "print((tup[Subject3] == F3))"
   ]
  },
  {
   "cell_type": "code",
   "execution_count": 2,
   "metadata": {},
   "outputs": [
    {
     "output_type": "stream",
     "name": "stdout",
     "text": [
      "Name4     | F4\n----------|---\nmanikanta | 1 \npavan     | 0 \nharsha    | 0 \nsharan    | 1 \nkarthik   | 0 \n"
     ]
    }
   ],
   "source": [
    "# Rank\n",
    "from pyDatalog import pyDatalog\n",
    "pyDatalog.create_terms('record, Subject4, Name4, Marks4,rank4,F4')\n",
    "+ (record('Chemistry','sharan',49))\n",
    "+ (record('Chemistry','karthik',43))\n",
    "+ (record('Physics','manikanta',48))\n",
    "+ (record('Physics','pavan',44))\n",
    "+ (record('DAA','harsha',44))\n",
    "+ (record('DAA','pavan',45))\n",
    "+ (record('DAA','manikanta',48))\n",
    "\n",
    "#Giving students marks rank, per subject\n",
    "(rank4[Name4] == rank_(group_by=Subject4,order_by=Marks4)) <= (record(Subject4,Name4,Marks4))\n",
    "print((rank4[Name4] == F4))"
   ]
  },
  {
   "source": [
    "<h4>2. What is an anonymous function/method or lambda? Why are lambdas relevant\n",
    "to map(), filter() and reduce()? Explain with an examples.<h4>"
   ],
   "cell_type": "markdown",
   "metadata": {}
  },
  {
   "source": [
    "<p>In Python, an anonymous function means that a function is without a name. As we already know that the def keyword is used to define a normal function in Python. Similarly, the lambda keyword is used to define an anonymous function in Python. It has the following syntax: \n",
    "\n",
    "<h4>Syntax: lambda arguments: expression</h4></p>\n",
    "<br>\n",
    "\n",
    "This function can have any number of arguments but only one expression, which is evaluated and returned.\n",
    "One is free to use lambda functions wherever function objects are required.\n",
    "You need to keep in your knowledge that lambda functions are syntactically restricted to a single expression.\n",
    "It has various uses in particular fields of programming besides other types of expressions in functions.\n",
    "\n",
    "\n"
   ],
   "cell_type": "markdown",
   "metadata": {}
  },
  {
   "source": [
    "<h3>Difference between normal function and lambda function</h3>"
   ],
   "cell_type": "markdown",
   "metadata": {}
  },
  {
   "cell_type": "code",
   "execution_count": 4,
   "metadata": {},
   "outputs": [
    {
     "output_type": "stream",
     "name": "stdout",
     "text": [
      "25\n25\n"
     ]
    }
   ],
   "source": [
    "def square(y):\n",
    "\treturn y*y\n",
    "\n",
    "lambda_square = lambda y: y*y\n",
    "\n",
    "print(square(5))\n",
    "\n",
    "print(lambda_square(5))\n"
   ]
  },
  {
   "source": [
    "<h3>Explanation</h3>\n",
    "<p>Without using Lambda: Here, both of them return the square of a given number. But, while using def, we needed to define a function with a name square and needed to pass a value to it. After execution, we also needed to return the result from where the function was called using the return keyword.\n",
    "\n",
    "Using Lambda: Lambda definition does not include a “return” statement, it always contains an expression that is returned. We can also put a lambda definition anywhere a function is expected, and we don’t have to assign it to a variable at all. This is the simplicity of lambda functions.</p>\n",
    "\n"
   ],
   "cell_type": "markdown",
   "metadata": {}
  },
  {
   "source": [
    "<h3>Using lambda() Function with filter()</h3>\n",
    "\n",
    "The filter() function in Python takes in a function and a list as arguments. This offers an elegant way to filter out all the elements of a sequence “sequence”, for which the function returns True. \n",
    "<p>Here is a small program that returns the even numbers from an input list: </p>"
   ],
   "cell_type": "markdown",
   "metadata": {}
  },
  {
   "source": [
    "numbers = [1,2,3,4,5,6,7,8,9,10]\n",
    " \n",
    "answer = list(filter(lambda x: (x % 2 == 0) , numbers))\n",
    "print(answer)"
   ],
   "cell_type": "code",
   "metadata": {},
   "execution_count": 5,
   "outputs": [
    {
     "output_type": "stream",
     "name": "stdout",
     "text": [
      "[2, 4, 6, 8, 10]\n"
     ]
    }
   ]
  },
  {
   "source": [
    "marks = [13, 90, 17, 59, 21, 60, 5]\n",
    " \n",
    "fail_marks = list(filter(lambda age: age < 35, marks))\n",
    " \n",
    "print(fail_marks)"
   ],
   "cell_type": "code",
   "metadata": {},
   "execution_count": 6,
   "outputs": [
    {
     "output_type": "stream",
     "name": "stdout",
     "text": [
      "[13, 17, 21, 5]\n"
     ]
    }
   ]
  },
  {
   "source": [
    "<h3>Using lambda() Function with map()</h3>\n",
    "The map() function in Python takes in a function and a list as an argument. The function is called with a lambda function and a list and a new list is returned which contains all the lambda modified items returned by that function for each item. Example: "
   ],
   "cell_type": "markdown",
   "metadata": {}
  },
  {
   "cell_type": "code",
   "execution_count": 7,
   "metadata": {},
   "outputs": [
    {
     "output_type": "stream",
     "name": "stdout",
     "text": [
      "[10, 14, 44, 194, 108, 124, 154, 46, 146, 122]\n"
     ]
    }
   ],
   "source": [
    "\n",
    "li = [5, 7, 22, 97, 54, 62, 77, 23, 73, 61]\n",
    "\n",
    "double_list = list(map(lambda x: x*2, li))\n",
    "print(double_list)\n"
   ]
  },
  {
   "cell_type": "code",
   "execution_count": 8,
   "metadata": {},
   "outputs": [
    {
     "output_type": "stream",
     "name": "stdout",
     "text": [
      "['DOG', 'CAT', 'PARROT', 'RABBIT']\n"
     ]
    }
   ],
   "source": [
    "\n",
    "animals = ['dog', 'cat', 'parrot', 'rabbit']\n",
    " \n",
    "\n",
    "uppered_animals = list(map(lambda animal: str.upper(animal), animals))\n",
    " \n",
    "print(uppered_animals)"
   ]
  },
  {
   "source": [
    "<h4>Using lambda() Function with reduce()</h4>\n",
    "The reduce() function in Python takes in a function and a list as an argument. The function is called with a lambda function and an iterable and a new reduced result is returned. This performs a repetitive operation over the pairs of the iterable. The reduce() function belongs to the  functools module. "
   ],
   "cell_type": "markdown",
   "metadata": {}
  },
  {
   "cell_type": "code",
   "execution_count": 10,
   "metadata": {},
   "outputs": [
    {
     "output_type": "stream",
     "name": "stdout",
     "text": [
      "193\n"
     ]
    }
   ],
   "source": [
    "# reduce() with lambda() to get sum of a list\n",
    "\n",
    "from functools import reduce\n",
    "numbers = [5, 8, 10, 20, 50, 100]\n",
    "sum = reduce((lambda x, y: x + y), numbers)\n",
    "print (sum)\n"
   ]
  },
  {
   "cell_type": "code",
   "execution_count": 19,
   "metadata": {},
   "outputs": [
    {
     "output_type": "stream",
     "name": "stdout",
     "text": [
      "The maximum element of the list is : 10\n"
     ]
    }
   ],
   "source": [
    "# using reduce to compute maximum element from numberst\n",
    "import functools\n",
    "lis = [ 1 , 3, 5, 6, 2,10]\n",
    "print (\"The maximum element of the list is : \",end=\"\")\n",
    "print (functools.reduce(lambda a,b : a if a > b else b,lis))\n"
   ]
  },
  {
   "source": [
    "<h4>3. Illustrate the situation (own) with dependent programming paradigms with an example</h4>"
   ],
   "cell_type": "markdown",
   "metadata": {}
  },
  {
   "source": [
    "<h4>Dependent functions</h4>\n",
    "<p>\n",
    "The return type of a dependent function may depend on\n",
    "the value (not just type) of one of its arguments</p>\n",
    "\n",
    "<p>For instance, a function that takes a positive integer n may return\n",
    "an array of length n, where the array length is part of the type of\n",
    "the array.</p>\n",
    "\n",
    "(Note that this is different from polymorphism and generic\n",
    "programming, both of which include the type as an argument.)"
   ],
   "cell_type": "markdown",
   "metadata": {}
  },
  {
   "source": [
    "<h3>A first example: classifying vehicles by power\n",
    "source IDRIS Example</h3>\n",
    "Listing 1 :\n",
    "<br>\n",
    "Defining a dependent type for vehicles, with their power source\n",
    "in the type (vehicle.idr)\n",
    "\n",
    "<p>\n",
    "data PowerSource = Petrol | Pedal </p> -An enumeration type describing possible power sources for a vehicle\n",
    "<br>\n",
    "<p>data Vehicle : PowerSource -> Type where </p> - A Vehicle’s type is annotated with its power source\n",
    "<br>\n",
    "\n",
    "<p>Bicycle : Vehicle Pedal</p> - A vehicle powered by pedal\n",
    "\n",
    "<p>Car : (fuel : Nat) -> Vehicle Petrol</p> \n",
    "\n",
    "<p>Bus : (fuel : Nat) -> Vehicle Petrol</p>\n",
    " - A vehicle powered by petrol, with a field for current fuel stocks\n"
   ],
   "cell_type": "markdown",
   "metadata": {}
  },
  {
   "source": [
    "<h2>IDRIS Second Example</h2>\n",
    "<br>\n",
    "Listing 2 \n",
    "<br>\n",
    "<br>\n",
    "\n",
    "Reading and updating properties of Vehicle\n",
    "<br>\n",
    "<br>\n",
    "wheels : Vehicle power -> Nat  - Use a type variable, power, because this function works for all possible vehicle types.\n",
    "<br>\n",
    "<br>\n",
    "wheels Bicycle = 2 wheels (Car fuel) = 4 wheels (Bus fuel) = 4\n",
    "<br>\n",
    "refuel : Vehicle Petrol -> Vehicle Petrol \n",
    "<br>\n",
    "refuel (Car fuel) = Car 100 refuel (Bus fuel) = Bus 200\n",
    "-Use a type variable, power, because this function works for all\n",
    "possible vehicle types."
   ],
   "cell_type": "markdown",
   "metadata": {}
  }
 ]
}